{
  "cells": [
    {
      "cell_type": "code",
      "execution_count": null,
      "metadata": {
        "id": "XVILdegYx57y"
      },
      "outputs": [],
      "source": []
    },
    {
      "cell_type": "code",
      "execution_count": 1,
      "metadata": {
        "colab": {
          "base_uri": "https://localhost:8080/"
        },
        "id": "Zo1R5pr4z7Uo",
        "outputId": "76753b8e-f7c6-4e50-9c6e-1662b3d81313"
      },
      "outputs": [
        {
          "name": "stdout",
          "output_type": "stream",
          "text": [
            "['multiple disease pred.py', 'major_project_heatbeatIQ.ipynb']\n"
          ]
        }
      ],
      "source": [
        "import numpy as np\n",
        "import pandas as pd\n",
        "import matplotlib.pyplot as plt\n",
        "import seaborn as sns\n",
        "\n",
        "%matplotlib inline\n",
        "\n",
        "import os\n",
        "print(os.listdir())\n",
        "\n",
        "import warnings\n",
        "warnings.filterwarnings('ignore')"
      ]
    },
    {
      "cell_type": "code",
      "execution_count": null,
      "metadata": {
        "id": "43QEslvQyJjv"
      },
      "outputs": [],
      "source": [
        "dataset = pd.read_csv('dataset/heart_disease_data.csv')"
      ]
    },
    {
      "cell_type": "code",
      "execution_count": null,
      "metadata": {
        "colab": {
          "base_uri": "https://localhost:8080/"
        },
        "id": "ibD2T5nOyJug",
        "outputId": "989d4374-a0d4-41d5-9393-f0a821ec923a"
      },
      "outputs": [
        {
          "data": {
            "text/plain": [
              "pandas.core.frame.DataFrame"
            ]
          },
          "execution_count": 3,
          "metadata": {},
          "output_type": "execute_result"
        }
      ],
      "source": [
        "type(dataset)"
      ]
    },
    {
      "cell_type": "code",
      "execution_count": null,
      "metadata": {
        "colab": {
          "base_uri": "https://localhost:8080/"
        },
        "id": "oVE9T-ktyJwn",
        "outputId": "589f9e2a-5cac-41fc-f95c-6cf341b4b90a"
      },
      "outputs": [
        {
          "data": {
            "text/plain": [
              "(1025, 14)"
            ]
          },
          "execution_count": 4,
          "metadata": {},
          "output_type": "execute_result"
        }
      ],
      "source": [
        "dataset.shape"
      ]
    },
    {
      "cell_type": "code",
      "execution_count": null,
      "metadata": {
        "colab": {
          "base_uri": "https://localhost:8080/",
          "height": 206
        },
        "id": "mPual_FYyJy-",
        "outputId": "d7f6e1f4-e4aa-4b73-8720-a58df3e22727"
      },
      "outputs": [
        {
          "data": {
            "text/html": [
              "\n",
              "  <div id=\"df-931bcd5d-c225-4a73-87e3-5b78e4800548\" class=\"colab-df-container\">\n",
              "    <div>\n",
              "<style scoped>\n",
              "    .dataframe tbody tr th:only-of-type {\n",
              "        vertical-align: middle;\n",
              "    }\n",
              "\n",
              "    .dataframe tbody tr th {\n",
              "        vertical-align: top;\n",
              "    }\n",
              "\n",
              "    .dataframe thead th {\n",
              "        text-align: right;\n",
              "    }\n",
              "</style>\n",
              "<table border=\"1\" class=\"dataframe\">\n",
              "  <thead>\n",
              "    <tr style=\"text-align: right;\">\n",
              "      <th></th>\n",
              "      <th>age</th>\n",
              "      <th>sex</th>\n",
              "      <th>cp</th>\n",
              "      <th>trestbps</th>\n",
              "      <th>chol</th>\n",
              "      <th>fbs</th>\n",
              "      <th>restecg</th>\n",
              "      <th>thalach</th>\n",
              "      <th>exang</th>\n",
              "      <th>oldpeak</th>\n",
              "      <th>slope</th>\n",
              "      <th>ca</th>\n",
              "      <th>thal</th>\n",
              "      <th>target</th>\n",
              "    </tr>\n",
              "  </thead>\n",
              "  <tbody>\n",
              "    <tr>\n",
              "      <th>0</th>\n",
              "      <td>52</td>\n",
              "      <td>1</td>\n",
              "      <td>0</td>\n",
              "      <td>125</td>\n",
              "      <td>212</td>\n",
              "      <td>0</td>\n",
              "      <td>1</td>\n",
              "      <td>168</td>\n",
              "      <td>0</td>\n",
              "      <td>1.0</td>\n",
              "      <td>2</td>\n",
              "      <td>2</td>\n",
              "      <td>3</td>\n",
              "      <td>0</td>\n",
              "    </tr>\n",
              "    <tr>\n",
              "      <th>1</th>\n",
              "      <td>53</td>\n",
              "      <td>1</td>\n",
              "      <td>0</td>\n",
              "      <td>140</td>\n",
              "      <td>203</td>\n",
              "      <td>1</td>\n",
              "      <td>0</td>\n",
              "      <td>155</td>\n",
              "      <td>1</td>\n",
              "      <td>3.1</td>\n",
              "      <td>0</td>\n",
              "      <td>0</td>\n",
              "      <td>3</td>\n",
              "      <td>0</td>\n",
              "    </tr>\n",
              "    <tr>\n",
              "      <th>2</th>\n",
              "      <td>70</td>\n",
              "      <td>1</td>\n",
              "      <td>0</td>\n",
              "      <td>145</td>\n",
              "      <td>174</td>\n",
              "      <td>0</td>\n",
              "      <td>1</td>\n",
              "      <td>125</td>\n",
              "      <td>1</td>\n",
              "      <td>2.6</td>\n",
              "      <td>0</td>\n",
              "      <td>0</td>\n",
              "      <td>3</td>\n",
              "      <td>0</td>\n",
              "    </tr>\n",
              "    <tr>\n",
              "      <th>3</th>\n",
              "      <td>61</td>\n",
              "      <td>1</td>\n",
              "      <td>0</td>\n",
              "      <td>148</td>\n",
              "      <td>203</td>\n",
              "      <td>0</td>\n",
              "      <td>1</td>\n",
              "      <td>161</td>\n",
              "      <td>0</td>\n",
              "      <td>0.0</td>\n",
              "      <td>2</td>\n",
              "      <td>1</td>\n",
              "      <td>3</td>\n",
              "      <td>0</td>\n",
              "    </tr>\n",
              "    <tr>\n",
              "      <th>4</th>\n",
              "      <td>62</td>\n",
              "      <td>0</td>\n",
              "      <td>0</td>\n",
              "      <td>138</td>\n",
              "      <td>294</td>\n",
              "      <td>1</td>\n",
              "      <td>1</td>\n",
              "      <td>106</td>\n",
              "      <td>0</td>\n",
              "      <td>1.9</td>\n",
              "      <td>1</td>\n",
              "      <td>3</td>\n",
              "      <td>2</td>\n",
              "      <td>0</td>\n",
              "    </tr>\n",
              "  </tbody>\n",
              "</table>\n",
              "</div>\n",
              "    <div class=\"colab-df-buttons\">\n",
              "\n",
              "  <div class=\"colab-df-container\">\n",
              "    <button class=\"colab-df-convert\" onclick=\"convertToInteractive('df-931bcd5d-c225-4a73-87e3-5b78e4800548')\"\n",
              "            title=\"Convert this dataframe to an interactive table.\"\n",
              "            style=\"display:none;\">\n",
              "\n",
              "  <svg xmlns=\"http://www.w3.org/2000/svg\" height=\"24px\" viewBox=\"0 -960 960 960\">\n",
              "    <path d=\"M120-120v-720h720v720H120Zm60-500h600v-160H180v160Zm220 220h160v-160H400v160Zm0 220h160v-160H400v160ZM180-400h160v-160H180v160Zm440 0h160v-160H620v160ZM180-180h160v-160H180v160Zm440 0h160v-160H620v160Z\"/>\n",
              "  </svg>\n",
              "    </button>\n",
              "\n",
              "  <style>\n",
              "    .colab-df-container {\n",
              "      display:flex;\n",
              "      gap: 12px;\n",
              "    }\n",
              "\n",
              "    .colab-df-convert {\n",
              "      background-color: #E8F0FE;\n",
              "      border: none;\n",
              "      border-radius: 50%;\n",
              "      cursor: pointer;\n",
              "      display: none;\n",
              "      fill: #1967D2;\n",
              "      height: 32px;\n",
              "      padding: 0 0 0 0;\n",
              "      width: 32px;\n",
              "    }\n",
              "\n",
              "    .colab-df-convert:hover {\n",
              "      background-color: #E2EBFA;\n",
              "      box-shadow: 0px 1px 2px rgba(60, 64, 67, 0.3), 0px 1px 3px 1px rgba(60, 64, 67, 0.15);\n",
              "      fill: #174EA6;\n",
              "    }\n",
              "\n",
              "    .colab-df-buttons div {\n",
              "      margin-bottom: 4px;\n",
              "    }\n",
              "\n",
              "    [theme=dark] .colab-df-convert {\n",
              "      background-color: #3B4455;\n",
              "      fill: #D2E3FC;\n",
              "    }\n",
              "\n",
              "    [theme=dark] .colab-df-convert:hover {\n",
              "      background-color: #434B5C;\n",
              "      box-shadow: 0px 1px 3px 1px rgba(0, 0, 0, 0.15);\n",
              "      filter: drop-shadow(0px 1px 2px rgba(0, 0, 0, 0.3));\n",
              "      fill: #FFFFFF;\n",
              "    }\n",
              "  </style>\n",
              "\n",
              "    <script>\n",
              "      const buttonEl =\n",
              "        document.querySelector('#df-931bcd5d-c225-4a73-87e3-5b78e4800548 button.colab-df-convert');\n",
              "      buttonEl.style.display =\n",
              "        google.colab.kernel.accessAllowed ? 'block' : 'none';\n",
              "\n",
              "      async function convertToInteractive(key) {\n",
              "        const element = document.querySelector('#df-931bcd5d-c225-4a73-87e3-5b78e4800548');\n",
              "        const dataTable =\n",
              "          await google.colab.kernel.invokeFunction('convertToInteractive',\n",
              "                                                    [key], {});\n",
              "        if (!dataTable) return;\n",
              "\n",
              "        const docLinkHtml = 'Like what you see? Visit the ' +\n",
              "          '<a target=\"_blank\" href=https://colab.research.google.com/notebooks/data_table.ipynb>data table notebook</a>'\n",
              "          + ' to learn more about interactive tables.';\n",
              "        element.innerHTML = '';\n",
              "        dataTable['output_type'] = 'display_data';\n",
              "        await google.colab.output.renderOutput(dataTable, element);\n",
              "        const docLink = document.createElement('div');\n",
              "        docLink.innerHTML = docLinkHtml;\n",
              "        element.appendChild(docLink);\n",
              "      }\n",
              "    </script>\n",
              "  </div>\n",
              "\n",
              "\n",
              "<div id=\"df-bbb0b908-4d63-445a-9dcd-ff03a468d83f\">\n",
              "  <button class=\"colab-df-quickchart\" onclick=\"quickchart('df-bbb0b908-4d63-445a-9dcd-ff03a468d83f')\"\n",
              "            title=\"Suggest charts.\"\n",
              "            style=\"display:none;\">\n",
              "\n",
              "<svg xmlns=\"http://www.w3.org/2000/svg\" height=\"24px\"viewBox=\"0 0 24 24\"\n",
              "     width=\"24px\">\n",
              "    <g>\n",
              "        <path d=\"M19 3H5c-1.1 0-2 .9-2 2v14c0 1.1.9 2 2 2h14c1.1 0 2-.9 2-2V5c0-1.1-.9-2-2-2zM9 17H7v-7h2v7zm4 0h-2V7h2v10zm4 0h-2v-4h2v4z\"/>\n",
              "    </g>\n",
              "</svg>\n",
              "  </button>\n",
              "\n",
              "<style>\n",
              "  .colab-df-quickchart {\n",
              "      --bg-color: #E8F0FE;\n",
              "      --fill-color: #1967D2;\n",
              "      --hover-bg-color: #E2EBFA;\n",
              "      --hover-fill-color: #174EA6;\n",
              "      --disabled-fill-color: #AAA;\n",
              "      --disabled-bg-color: #DDD;\n",
              "  }\n",
              "\n",
              "  [theme=dark] .colab-df-quickchart {\n",
              "      --bg-color: #3B4455;\n",
              "      --fill-color: #D2E3FC;\n",
              "      --hover-bg-color: #434B5C;\n",
              "      --hover-fill-color: #FFFFFF;\n",
              "      --disabled-bg-color: #3B4455;\n",
              "      --disabled-fill-color: #666;\n",
              "  }\n",
              "\n",
              "  .colab-df-quickchart {\n",
              "    background-color: var(--bg-color);\n",
              "    border: none;\n",
              "    border-radius: 50%;\n",
              "    cursor: pointer;\n",
              "    display: none;\n",
              "    fill: var(--fill-color);\n",
              "    height: 32px;\n",
              "    padding: 0;\n",
              "    width: 32px;\n",
              "  }\n",
              "\n",
              "  .colab-df-quickchart:hover {\n",
              "    background-color: var(--hover-bg-color);\n",
              "    box-shadow: 0 1px 2px rgba(60, 64, 67, 0.3), 0 1px 3px 1px rgba(60, 64, 67, 0.15);\n",
              "    fill: var(--button-hover-fill-color);\n",
              "  }\n",
              "\n",
              "  .colab-df-quickchart-complete:disabled,\n",
              "  .colab-df-quickchart-complete:disabled:hover {\n",
              "    background-color: var(--disabled-bg-color);\n",
              "    fill: var(--disabled-fill-color);\n",
              "    box-shadow: none;\n",
              "  }\n",
              "\n",
              "  .colab-df-spinner {\n",
              "    border: 2px solid var(--fill-color);\n",
              "    border-color: transparent;\n",
              "    border-bottom-color: var(--fill-color);\n",
              "    animation:\n",
              "      spin 1s steps(1) infinite;\n",
              "  }\n",
              "\n",
              "  @keyframes spin {\n",
              "    0% {\n",
              "      border-color: transparent;\n",
              "      border-bottom-color: var(--fill-color);\n",
              "      border-left-color: var(--fill-color);\n",
              "    }\n",
              "    20% {\n",
              "      border-color: transparent;\n",
              "      border-left-color: var(--fill-color);\n",
              "      border-top-color: var(--fill-color);\n",
              "    }\n",
              "    30% {\n",
              "      border-color: transparent;\n",
              "      border-left-color: var(--fill-color);\n",
              "      border-top-color: var(--fill-color);\n",
              "      border-right-color: var(--fill-color);\n",
              "    }\n",
              "    40% {\n",
              "      border-color: transparent;\n",
              "      border-right-color: var(--fill-color);\n",
              "      border-top-color: var(--fill-color);\n",
              "    }\n",
              "    60% {\n",
              "      border-color: transparent;\n",
              "      border-right-color: var(--fill-color);\n",
              "    }\n",
              "    80% {\n",
              "      border-color: transparent;\n",
              "      border-right-color: var(--fill-color);\n",
              "      border-bottom-color: var(--fill-color);\n",
              "    }\n",
              "    90% {\n",
              "      border-color: transparent;\n",
              "      border-bottom-color: var(--fill-color);\n",
              "    }\n",
              "  }\n",
              "</style>\n",
              "\n",
              "  <script>\n",
              "    async function quickchart(key) {\n",
              "      const quickchartButtonEl =\n",
              "        document.querySelector('#' + key + ' button');\n",
              "      quickchartButtonEl.disabled = true;  // To prevent multiple clicks.\n",
              "      quickchartButtonEl.classList.add('colab-df-spinner');\n",
              "      try {\n",
              "        const charts = await google.colab.kernel.invokeFunction(\n",
              "            'suggestCharts', [key], {});\n",
              "      } catch (error) {\n",
              "        console.error('Error during call to suggestCharts:', error);\n",
              "      }\n",
              "      quickchartButtonEl.classList.remove('colab-df-spinner');\n",
              "      quickchartButtonEl.classList.add('colab-df-quickchart-complete');\n",
              "    }\n",
              "    (() => {\n",
              "      let quickchartButtonEl =\n",
              "        document.querySelector('#df-bbb0b908-4d63-445a-9dcd-ff03a468d83f button');\n",
              "      quickchartButtonEl.style.display =\n",
              "        google.colab.kernel.accessAllowed ? 'block' : 'none';\n",
              "    })();\n",
              "  </script>\n",
              "</div>\n",
              "    </div>\n",
              "  </div>\n"
            ],
            "text/plain": [
              "   age  sex  cp  trestbps  chol  fbs  restecg  thalach  exang  oldpeak  slope  \\\n",
              "0   52    1   0       125   212    0        1      168      0      1.0      2   \n",
              "1   53    1   0       140   203    1        0      155      1      3.1      0   \n",
              "2   70    1   0       145   174    0        1      125      1      2.6      0   \n",
              "3   61    1   0       148   203    0        1      161      0      0.0      2   \n",
              "4   62    0   0       138   294    1        1      106      0      1.9      1   \n",
              "\n",
              "   ca  thal  target  \n",
              "0   2     3       0  \n",
              "1   0     3       0  \n",
              "2   0     3       0  \n",
              "3   1     3       0  \n",
              "4   3     2       0  "
            ]
          },
          "execution_count": 5,
          "metadata": {},
          "output_type": "execute_result"
        }
      ],
      "source": [
        "dataset.head(5)"
      ]
    },
    {
      "cell_type": "markdown",
      "metadata": {},
      "source": [
        "_cp: Refers to chest pain type. It's categorized into four types: 0: Typical angina 1: Atypical angina 2: Non-anginal pain 3: Asymptomatic\n",
        "\n",
        "_trestbps: Denotes the resting blood pressure (in mm Hg) of the patient upon admission to the hospital.\n",
        "\n",
        "_chol: Stands for serum cholesterol level (in mg/dl).\n",
        "\n",
        "_fbs: Represents the fasting blood sugar level (> 120 mg/dl is considered as 1 and <= 120 mg/dl is considered as 0).\n",
        "\n",
        "_restecg: Refers to resting electrocardiographic results. It categorizes into three types: 0: Normal 1: Having ST-T wave abnormality (T wave inversions and/or ST elevation or depression of > 0.05 mV) 2: Showing probable or definite left ventricular hypertrophy by Estes' criteria\n",
        "\n",
        "_thalach: Represents the maximum heart rate achieved.\n",
        "\n",
        "_exang: Indicates exercise-induced angina (1 = yes, 0 = no).\n",
        "\n",
        "_oldpeak: Refers to the ST depression induced by exercise relative to rest.\n",
        "\n",
        "_slope: Denotes the slope of the peak exercise ST segment. It's categorized into three types: 0: Upsloping 1: Flat 2: Downsloping\n",
        "\n",
        "_ca: Represents the number of major vessels (0-3) colored by fluoroscopy.\n",
        "\n",
        "_thal: Refers to a blood disorder called thalassemia. It's categorized into three types: 1: Normal 2: Fixed defect 3: Reversible defect"
      ]
    },
    {
      "cell_type": "code",
      "execution_count": null,
      "metadata": {
        "colab": {
          "base_uri": "https://localhost:8080/",
          "height": 206
        },
        "id": "Xw2YxODJyTIK",
        "outputId": "3ce61d0b-53db-4df4-e1dc-7bca6c9aa0e9"
      },
      "outputs": [
        {
          "data": {
            "text/html": [
              "\n",
              "  <div id=\"df-544e7285-aeaf-4bee-9ff7-2957c6330bba\" class=\"colab-df-container\">\n",
              "    <div>\n",
              "<style scoped>\n",
              "    .dataframe tbody tr th:only-of-type {\n",
              "        vertical-align: middle;\n",
              "    }\n",
              "\n",
              "    .dataframe tbody tr th {\n",
              "        vertical-align: top;\n",
              "    }\n",
              "\n",
              "    .dataframe thead th {\n",
              "        text-align: right;\n",
              "    }\n",
              "</style>\n",
              "<table border=\"1\" class=\"dataframe\">\n",
              "  <thead>\n",
              "    <tr style=\"text-align: right;\">\n",
              "      <th></th>\n",
              "      <th>age</th>\n",
              "      <th>sex</th>\n",
              "      <th>cp</th>\n",
              "      <th>trestbps</th>\n",
              "      <th>chol</th>\n",
              "      <th>fbs</th>\n",
              "      <th>restecg</th>\n",
              "      <th>thalach</th>\n",
              "      <th>exang</th>\n",
              "      <th>oldpeak</th>\n",
              "      <th>slope</th>\n",
              "      <th>ca</th>\n",
              "      <th>thal</th>\n",
              "      <th>target</th>\n",
              "    </tr>\n",
              "  </thead>\n",
              "  <tbody>\n",
              "    <tr>\n",
              "      <th>361</th>\n",
              "      <td>62</td>\n",
              "      <td>1</td>\n",
              "      <td>2</td>\n",
              "      <td>130</td>\n",
              "      <td>231</td>\n",
              "      <td>0</td>\n",
              "      <td>1</td>\n",
              "      <td>146</td>\n",
              "      <td>0</td>\n",
              "      <td>1.8</td>\n",
              "      <td>1</td>\n",
              "      <td>3</td>\n",
              "      <td>3</td>\n",
              "      <td>1</td>\n",
              "    </tr>\n",
              "    <tr>\n",
              "      <th>135</th>\n",
              "      <td>58</td>\n",
              "      <td>0</td>\n",
              "      <td>0</td>\n",
              "      <td>170</td>\n",
              "      <td>225</td>\n",
              "      <td>1</td>\n",
              "      <td>0</td>\n",
              "      <td>146</td>\n",
              "      <td>1</td>\n",
              "      <td>2.8</td>\n",
              "      <td>1</td>\n",
              "      <td>2</td>\n",
              "      <td>1</td>\n",
              "      <td>0</td>\n",
              "    </tr>\n",
              "    <tr>\n",
              "      <th>14</th>\n",
              "      <td>52</td>\n",
              "      <td>1</td>\n",
              "      <td>0</td>\n",
              "      <td>128</td>\n",
              "      <td>204</td>\n",
              "      <td>1</td>\n",
              "      <td>1</td>\n",
              "      <td>156</td>\n",
              "      <td>1</td>\n",
              "      <td>1.0</td>\n",
              "      <td>1</td>\n",
              "      <td>0</td>\n",
              "      <td>0</td>\n",
              "      <td>0</td>\n",
              "    </tr>\n",
              "    <tr>\n",
              "      <th>278</th>\n",
              "      <td>55</td>\n",
              "      <td>1</td>\n",
              "      <td>0</td>\n",
              "      <td>160</td>\n",
              "      <td>289</td>\n",
              "      <td>0</td>\n",
              "      <td>0</td>\n",
              "      <td>145</td>\n",
              "      <td>1</td>\n",
              "      <td>0.8</td>\n",
              "      <td>1</td>\n",
              "      <td>1</td>\n",
              "      <td>3</td>\n",
              "      <td>0</td>\n",
              "    </tr>\n",
              "    <tr>\n",
              "      <th>711</th>\n",
              "      <td>35</td>\n",
              "      <td>1</td>\n",
              "      <td>0</td>\n",
              "      <td>120</td>\n",
              "      <td>198</td>\n",
              "      <td>0</td>\n",
              "      <td>1</td>\n",
              "      <td>130</td>\n",
              "      <td>1</td>\n",
              "      <td>1.6</td>\n",
              "      <td>1</td>\n",
              "      <td>0</td>\n",
              "      <td>3</td>\n",
              "      <td>0</td>\n",
              "    </tr>\n",
              "  </tbody>\n",
              "</table>\n",
              "</div>\n",
              "    <div class=\"colab-df-buttons\">\n",
              "\n",
              "  <div class=\"colab-df-container\">\n",
              "    <button class=\"colab-df-convert\" onclick=\"convertToInteractive('df-544e7285-aeaf-4bee-9ff7-2957c6330bba')\"\n",
              "            title=\"Convert this dataframe to an interactive table.\"\n",
              "            style=\"display:none;\">\n",
              "\n",
              "  <svg xmlns=\"http://www.w3.org/2000/svg\" height=\"24px\" viewBox=\"0 -960 960 960\">\n",
              "    <path d=\"M120-120v-720h720v720H120Zm60-500h600v-160H180v160Zm220 220h160v-160H400v160Zm0 220h160v-160H400v160ZM180-400h160v-160H180v160Zm440 0h160v-160H620v160ZM180-180h160v-160H180v160Zm440 0h160v-160H620v160Z\"/>\n",
              "  </svg>\n",
              "    </button>\n",
              "\n",
              "  <style>\n",
              "    .colab-df-container {\n",
              "      display:flex;\n",
              "      gap: 12px;\n",
              "    }\n",
              "\n",
              "    .colab-df-convert {\n",
              "      background-color: #E8F0FE;\n",
              "      border: none;\n",
              "      border-radius: 50%;\n",
              "      cursor: pointer;\n",
              "      display: none;\n",
              "      fill: #1967D2;\n",
              "      height: 32px;\n",
              "      padding: 0 0 0 0;\n",
              "      width: 32px;\n",
              "    }\n",
              "\n",
              "    .colab-df-convert:hover {\n",
              "      background-color: #E2EBFA;\n",
              "      box-shadow: 0px 1px 2px rgba(60, 64, 67, 0.3), 0px 1px 3px 1px rgba(60, 64, 67, 0.15);\n",
              "      fill: #174EA6;\n",
              "    }\n",
              "\n",
              "    .colab-df-buttons div {\n",
              "      margin-bottom: 4px;\n",
              "    }\n",
              "\n",
              "    [theme=dark] .colab-df-convert {\n",
              "      background-color: #3B4455;\n",
              "      fill: #D2E3FC;\n",
              "    }\n",
              "\n",
              "    [theme=dark] .colab-df-convert:hover {\n",
              "      background-color: #434B5C;\n",
              "      box-shadow: 0px 1px 3px 1px rgba(0, 0, 0, 0.15);\n",
              "      filter: drop-shadow(0px 1px 2px rgba(0, 0, 0, 0.3));\n",
              "      fill: #FFFFFF;\n",
              "    }\n",
              "  </style>\n",
              "\n",
              "    <script>\n",
              "      const buttonEl =\n",
              "        document.querySelector('#df-544e7285-aeaf-4bee-9ff7-2957c6330bba button.colab-df-convert');\n",
              "      buttonEl.style.display =\n",
              "        google.colab.kernel.accessAllowed ? 'block' : 'none';\n",
              "\n",
              "      async function convertToInteractive(key) {\n",
              "        const element = document.querySelector('#df-544e7285-aeaf-4bee-9ff7-2957c6330bba');\n",
              "        const dataTable =\n",
              "          await google.colab.kernel.invokeFunction('convertToInteractive',\n",
              "                                                    [key], {});\n",
              "        if (!dataTable) return;\n",
              "\n",
              "        const docLinkHtml = 'Like what you see? Visit the ' +\n",
              "          '<a target=\"_blank\" href=https://colab.research.google.com/notebooks/data_table.ipynb>data table notebook</a>'\n",
              "          + ' to learn more about interactive tables.';\n",
              "        element.innerHTML = '';\n",
              "        dataTable['output_type'] = 'display_data';\n",
              "        await google.colab.output.renderOutput(dataTable, element);\n",
              "        const docLink = document.createElement('div');\n",
              "        docLink.innerHTML = docLinkHtml;\n",
              "        element.appendChild(docLink);\n",
              "      }\n",
              "    </script>\n",
              "  </div>\n",
              "\n",
              "\n",
              "<div id=\"df-33ed48eb-93a7-4ec9-ad9e-7e3ba38d5b31\">\n",
              "  <button class=\"colab-df-quickchart\" onclick=\"quickchart('df-33ed48eb-93a7-4ec9-ad9e-7e3ba38d5b31')\"\n",
              "            title=\"Suggest charts.\"\n",
              "            style=\"display:none;\">\n",
              "\n",
              "<svg xmlns=\"http://www.w3.org/2000/svg\" height=\"24px\"viewBox=\"0 0 24 24\"\n",
              "     width=\"24px\">\n",
              "    <g>\n",
              "        <path d=\"M19 3H5c-1.1 0-2 .9-2 2v14c0 1.1.9 2 2 2h14c1.1 0 2-.9 2-2V5c0-1.1-.9-2-2-2zM9 17H7v-7h2v7zm4 0h-2V7h2v10zm4 0h-2v-4h2v4z\"/>\n",
              "    </g>\n",
              "</svg>\n",
              "  </button>\n",
              "\n",
              "<style>\n",
              "  .colab-df-quickchart {\n",
              "      --bg-color: #E8F0FE;\n",
              "      --fill-color: #1967D2;\n",
              "      --hover-bg-color: #E2EBFA;\n",
              "      --hover-fill-color: #174EA6;\n",
              "      --disabled-fill-color: #AAA;\n",
              "      --disabled-bg-color: #DDD;\n",
              "  }\n",
              "\n",
              "  [theme=dark] .colab-df-quickchart {\n",
              "      --bg-color: #3B4455;\n",
              "      --fill-color: #D2E3FC;\n",
              "      --hover-bg-color: #434B5C;\n",
              "      --hover-fill-color: #FFFFFF;\n",
              "      --disabled-bg-color: #3B4455;\n",
              "      --disabled-fill-color: #666;\n",
              "  }\n",
              "\n",
              "  .colab-df-quickchart {\n",
              "    background-color: var(--bg-color);\n",
              "    border: none;\n",
              "    border-radius: 50%;\n",
              "    cursor: pointer;\n",
              "    display: none;\n",
              "    fill: var(--fill-color);\n",
              "    height: 32px;\n",
              "    padding: 0;\n",
              "    width: 32px;\n",
              "  }\n",
              "\n",
              "  .colab-df-quickchart:hover {\n",
              "    background-color: var(--hover-bg-color);\n",
              "    box-shadow: 0 1px 2px rgba(60, 64, 67, 0.3), 0 1px 3px 1px rgba(60, 64, 67, 0.15);\n",
              "    fill: var(--button-hover-fill-color);\n",
              "  }\n",
              "\n",
              "  .colab-df-quickchart-complete:disabled,\n",
              "  .colab-df-quickchart-complete:disabled:hover {\n",
              "    background-color: var(--disabled-bg-color);\n",
              "    fill: var(--disabled-fill-color);\n",
              "    box-shadow: none;\n",
              "  }\n",
              "\n",
              "  .colab-df-spinner {\n",
              "    border: 2px solid var(--fill-color);\n",
              "    border-color: transparent;\n",
              "    border-bottom-color: var(--fill-color);\n",
              "    animation:\n",
              "      spin 1s steps(1) infinite;\n",
              "  }\n",
              "\n",
              "  @keyframes spin {\n",
              "    0% {\n",
              "      border-color: transparent;\n",
              "      border-bottom-color: var(--fill-color);\n",
              "      border-left-color: var(--fill-color);\n",
              "    }\n",
              "    20% {\n",
              "      border-color: transparent;\n",
              "      border-left-color: var(--fill-color);\n",
              "      border-top-color: var(--fill-color);\n",
              "    }\n",
              "    30% {\n",
              "      border-color: transparent;\n",
              "      border-left-color: var(--fill-color);\n",
              "      border-top-color: var(--fill-color);\n",
              "      border-right-color: var(--fill-color);\n",
              "    }\n",
              "    40% {\n",
              "      border-color: transparent;\n",
              "      border-right-color: var(--fill-color);\n",
              "      border-top-color: var(--fill-color);\n",
              "    }\n",
              "    60% {\n",
              "      border-color: transparent;\n",
              "      border-right-color: var(--fill-color);\n",
              "    }\n",
              "    80% {\n",
              "      border-color: transparent;\n",
              "      border-right-color: var(--fill-color);\n",
              "      border-bottom-color: var(--fill-color);\n",
              "    }\n",
              "    90% {\n",
              "      border-color: transparent;\n",
              "      border-bottom-color: var(--fill-color);\n",
              "    }\n",
              "  }\n",
              "</style>\n",
              "\n",
              "  <script>\n",
              "    async function quickchart(key) {\n",
              "      const quickchartButtonEl =\n",
              "        document.querySelector('#' + key + ' button');\n",
              "      quickchartButtonEl.disabled = true;  // To prevent multiple clicks.\n",
              "      quickchartButtonEl.classList.add('colab-df-spinner');\n",
              "      try {\n",
              "        const charts = await google.colab.kernel.invokeFunction(\n",
              "            'suggestCharts', [key], {});\n",
              "      } catch (error) {\n",
              "        console.error('Error during call to suggestCharts:', error);\n",
              "      }\n",
              "      quickchartButtonEl.classList.remove('colab-df-spinner');\n",
              "      quickchartButtonEl.classList.add('colab-df-quickchart-complete');\n",
              "    }\n",
              "    (() => {\n",
              "      let quickchartButtonEl =\n",
              "        document.querySelector('#df-33ed48eb-93a7-4ec9-ad9e-7e3ba38d5b31 button');\n",
              "      quickchartButtonEl.style.display =\n",
              "        google.colab.kernel.accessAllowed ? 'block' : 'none';\n",
              "    })();\n",
              "  </script>\n",
              "</div>\n",
              "    </div>\n",
              "  </div>\n"
            ],
            "text/plain": [
              "     age  sex  cp  trestbps  chol  fbs  restecg  thalach  exang  oldpeak  \\\n",
              "361   62    1   2       130   231    0        1      146      0      1.8   \n",
              "135   58    0   0       170   225    1        0      146      1      2.8   \n",
              "14    52    1   0       128   204    1        1      156      1      1.0   \n",
              "278   55    1   0       160   289    0        0      145      1      0.8   \n",
              "711   35    1   0       120   198    0        1      130      1      1.6   \n",
              "\n",
              "     slope  ca  thal  target  \n",
              "361      1   3     3       1  \n",
              "135      1   2     1       0  \n",
              "14       1   0     0       0  \n",
              "278      1   1     3       0  \n",
              "711      1   0     3       0  "
            ]
          },
          "execution_count": 6,
          "metadata": {},
          "output_type": "execute_result"
        }
      ],
      "source": [
        "dataset.sample(5)"
      ]
    },
    {
      "cell_type": "code",
      "execution_count": null,
      "metadata": {
        "colab": {
          "base_uri": "https://localhost:8080/",
          "height": 320
        },
        "id": "qaZKj0xhyTLI",
        "outputId": "de99a6c5-5972-44c1-ae3e-a6d9bae08617"
      },
      "outputs": [
        {
          "data": {
            "text/html": [
              "\n",
              "  <div id=\"df-1db365bd-32a6-4e3f-8b3b-a04dd9f669fe\" class=\"colab-df-container\">\n",
              "    <div>\n",
              "<style scoped>\n",
              "    .dataframe tbody tr th:only-of-type {\n",
              "        vertical-align: middle;\n",
              "    }\n",
              "\n",
              "    .dataframe tbody tr th {\n",
              "        vertical-align: top;\n",
              "    }\n",
              "\n",
              "    .dataframe thead th {\n",
              "        text-align: right;\n",
              "    }\n",
              "</style>\n",
              "<table border=\"1\" class=\"dataframe\">\n",
              "  <thead>\n",
              "    <tr style=\"text-align: right;\">\n",
              "      <th></th>\n",
              "      <th>age</th>\n",
              "      <th>sex</th>\n",
              "      <th>cp</th>\n",
              "      <th>trestbps</th>\n",
              "      <th>chol</th>\n",
              "      <th>fbs</th>\n",
              "      <th>restecg</th>\n",
              "      <th>thalach</th>\n",
              "      <th>exang</th>\n",
              "      <th>oldpeak</th>\n",
              "      <th>slope</th>\n",
              "      <th>ca</th>\n",
              "      <th>thal</th>\n",
              "      <th>target</th>\n",
              "    </tr>\n",
              "  </thead>\n",
              "  <tbody>\n",
              "    <tr>\n",
              "      <th>count</th>\n",
              "      <td>1025.000000</td>\n",
              "      <td>1025.000000</td>\n",
              "      <td>1025.000000</td>\n",
              "      <td>1025.000000</td>\n",
              "      <td>1025.00000</td>\n",
              "      <td>1025.000000</td>\n",
              "      <td>1025.000000</td>\n",
              "      <td>1025.000000</td>\n",
              "      <td>1025.000000</td>\n",
              "      <td>1025.000000</td>\n",
              "      <td>1025.000000</td>\n",
              "      <td>1025.000000</td>\n",
              "      <td>1025.000000</td>\n",
              "      <td>1025.000000</td>\n",
              "    </tr>\n",
              "    <tr>\n",
              "      <th>mean</th>\n",
              "      <td>54.434146</td>\n",
              "      <td>0.695610</td>\n",
              "      <td>0.942439</td>\n",
              "      <td>131.611707</td>\n",
              "      <td>246.00000</td>\n",
              "      <td>0.149268</td>\n",
              "      <td>0.529756</td>\n",
              "      <td>149.114146</td>\n",
              "      <td>0.336585</td>\n",
              "      <td>1.071512</td>\n",
              "      <td>1.385366</td>\n",
              "      <td>0.754146</td>\n",
              "      <td>2.323902</td>\n",
              "      <td>0.513171</td>\n",
              "    </tr>\n",
              "    <tr>\n",
              "      <th>std</th>\n",
              "      <td>9.072290</td>\n",
              "      <td>0.460373</td>\n",
              "      <td>1.029641</td>\n",
              "      <td>17.516718</td>\n",
              "      <td>51.59251</td>\n",
              "      <td>0.356527</td>\n",
              "      <td>0.527878</td>\n",
              "      <td>23.005724</td>\n",
              "      <td>0.472772</td>\n",
              "      <td>1.175053</td>\n",
              "      <td>0.617755</td>\n",
              "      <td>1.030798</td>\n",
              "      <td>0.620660</td>\n",
              "      <td>0.500070</td>\n",
              "    </tr>\n",
              "    <tr>\n",
              "      <th>min</th>\n",
              "      <td>29.000000</td>\n",
              "      <td>0.000000</td>\n",
              "      <td>0.000000</td>\n",
              "      <td>94.000000</td>\n",
              "      <td>126.00000</td>\n",
              "      <td>0.000000</td>\n",
              "      <td>0.000000</td>\n",
              "      <td>71.000000</td>\n",
              "      <td>0.000000</td>\n",
              "      <td>0.000000</td>\n",
              "      <td>0.000000</td>\n",
              "      <td>0.000000</td>\n",
              "      <td>0.000000</td>\n",
              "      <td>0.000000</td>\n",
              "    </tr>\n",
              "    <tr>\n",
              "      <th>25%</th>\n",
              "      <td>48.000000</td>\n",
              "      <td>0.000000</td>\n",
              "      <td>0.000000</td>\n",
              "      <td>120.000000</td>\n",
              "      <td>211.00000</td>\n",
              "      <td>0.000000</td>\n",
              "      <td>0.000000</td>\n",
              "      <td>132.000000</td>\n",
              "      <td>0.000000</td>\n",
              "      <td>0.000000</td>\n",
              "      <td>1.000000</td>\n",
              "      <td>0.000000</td>\n",
              "      <td>2.000000</td>\n",
              "      <td>0.000000</td>\n",
              "    </tr>\n",
              "    <tr>\n",
              "      <th>50%</th>\n",
              "      <td>56.000000</td>\n",
              "      <td>1.000000</td>\n",
              "      <td>1.000000</td>\n",
              "      <td>130.000000</td>\n",
              "      <td>240.00000</td>\n",
              "      <td>0.000000</td>\n",
              "      <td>1.000000</td>\n",
              "      <td>152.000000</td>\n",
              "      <td>0.000000</td>\n",
              "      <td>0.800000</td>\n",
              "      <td>1.000000</td>\n",
              "      <td>0.000000</td>\n",
              "      <td>2.000000</td>\n",
              "      <td>1.000000</td>\n",
              "    </tr>\n",
              "    <tr>\n",
              "      <th>75%</th>\n",
              "      <td>61.000000</td>\n",
              "      <td>1.000000</td>\n",
              "      <td>2.000000</td>\n",
              "      <td>140.000000</td>\n",
              "      <td>275.00000</td>\n",
              "      <td>0.000000</td>\n",
              "      <td>1.000000</td>\n",
              "      <td>166.000000</td>\n",
              "      <td>1.000000</td>\n",
              "      <td>1.800000</td>\n",
              "      <td>2.000000</td>\n",
              "      <td>1.000000</td>\n",
              "      <td>3.000000</td>\n",
              "      <td>1.000000</td>\n",
              "    </tr>\n",
              "    <tr>\n",
              "      <th>max</th>\n",
              "      <td>77.000000</td>\n",
              "      <td>1.000000</td>\n",
              "      <td>3.000000</td>\n",
              "      <td>200.000000</td>\n",
              "      <td>564.00000</td>\n",
              "      <td>1.000000</td>\n",
              "      <td>2.000000</td>\n",
              "      <td>202.000000</td>\n",
              "      <td>1.000000</td>\n",
              "      <td>6.200000</td>\n",
              "      <td>2.000000</td>\n",
              "      <td>4.000000</td>\n",
              "      <td>3.000000</td>\n",
              "      <td>1.000000</td>\n",
              "    </tr>\n",
              "  </tbody>\n",
              "</table>\n",
              "</div>\n",
              "    <div class=\"colab-df-buttons\">\n",
              "\n",
              "  <div class=\"colab-df-container\">\n",
              "    <button class=\"colab-df-convert\" onclick=\"convertToInteractive('df-1db365bd-32a6-4e3f-8b3b-a04dd9f669fe')\"\n",
              "            title=\"Convert this dataframe to an interactive table.\"\n",
              "            style=\"display:none;\">\n",
              "\n",
              "  <svg xmlns=\"http://www.w3.org/2000/svg\" height=\"24px\" viewBox=\"0 -960 960 960\">\n",
              "    <path d=\"M120-120v-720h720v720H120Zm60-500h600v-160H180v160Zm220 220h160v-160H400v160Zm0 220h160v-160H400v160ZM180-400h160v-160H180v160Zm440 0h160v-160H620v160ZM180-180h160v-160H180v160Zm440 0h160v-160H620v160Z\"/>\n",
              "  </svg>\n",
              "    </button>\n",
              "\n",
              "  <style>\n",
              "    .colab-df-container {\n",
              "      display:flex;\n",
              "      gap: 12px;\n",
              "    }\n",
              "\n",
              "    .colab-df-convert {\n",
              "      background-color: #E8F0FE;\n",
              "      border: none;\n",
              "      border-radius: 50%;\n",
              "      cursor: pointer;\n",
              "      display: none;\n",
              "      fill: #1967D2;\n",
              "      height: 32px;\n",
              "      padding: 0 0 0 0;\n",
              "      width: 32px;\n",
              "    }\n",
              "\n",
              "    .colab-df-convert:hover {\n",
              "      background-color: #E2EBFA;\n",
              "      box-shadow: 0px 1px 2px rgba(60, 64, 67, 0.3), 0px 1px 3px 1px rgba(60, 64, 67, 0.15);\n",
              "      fill: #174EA6;\n",
              "    }\n",
              "\n",
              "    .colab-df-buttons div {\n",
              "      margin-bottom: 4px;\n",
              "    }\n",
              "\n",
              "    [theme=dark] .colab-df-convert {\n",
              "      background-color: #3B4455;\n",
              "      fill: #D2E3FC;\n",
              "    }\n",
              "\n",
              "    [theme=dark] .colab-df-convert:hover {\n",
              "      background-color: #434B5C;\n",
              "      box-shadow: 0px 1px 3px 1px rgba(0, 0, 0, 0.15);\n",
              "      filter: drop-shadow(0px 1px 2px rgba(0, 0, 0, 0.3));\n",
              "      fill: #FFFFFF;\n",
              "    }\n",
              "  </style>\n",
              "\n",
              "    <script>\n",
              "      const buttonEl =\n",
              "        document.querySelector('#df-1db365bd-32a6-4e3f-8b3b-a04dd9f669fe button.colab-df-convert');\n",
              "      buttonEl.style.display =\n",
              "        google.colab.kernel.accessAllowed ? 'block' : 'none';\n",
              "\n",
              "      async function convertToInteractive(key) {\n",
              "        const element = document.querySelector('#df-1db365bd-32a6-4e3f-8b3b-a04dd9f669fe');\n",
              "        const dataTable =\n",
              "          await google.colab.kernel.invokeFunction('convertToInteractive',\n",
              "                                                    [key], {});\n",
              "        if (!dataTable) return;\n",
              "\n",
              "        const docLinkHtml = 'Like what you see? Visit the ' +\n",
              "          '<a target=\"_blank\" href=https://colab.research.google.com/notebooks/data_table.ipynb>data table notebook</a>'\n",
              "          + ' to learn more about interactive tables.';\n",
              "        element.innerHTML = '';\n",
              "        dataTable['output_type'] = 'display_data';\n",
              "        await google.colab.output.renderOutput(dataTable, element);\n",
              "        const docLink = document.createElement('div');\n",
              "        docLink.innerHTML = docLinkHtml;\n",
              "        element.appendChild(docLink);\n",
              "      }\n",
              "    </script>\n",
              "  </div>\n",
              "\n",
              "\n",
              "<div id=\"df-4116cd7c-dcf6-495a-bcc9-3504ca406ab0\">\n",
              "  <button class=\"colab-df-quickchart\" onclick=\"quickchart('df-4116cd7c-dcf6-495a-bcc9-3504ca406ab0')\"\n",
              "            title=\"Suggest charts.\"\n",
              "            style=\"display:none;\">\n",
              "\n",
              "<svg xmlns=\"http://www.w3.org/2000/svg\" height=\"24px\"viewBox=\"0 0 24 24\"\n",
              "     width=\"24px\">\n",
              "    <g>\n",
              "        <path d=\"M19 3H5c-1.1 0-2 .9-2 2v14c0 1.1.9 2 2 2h14c1.1 0 2-.9 2-2V5c0-1.1-.9-2-2-2zM9 17H7v-7h2v7zm4 0h-2V7h2v10zm4 0h-2v-4h2v4z\"/>\n",
              "    </g>\n",
              "</svg>\n",
              "  </button>\n",
              "\n",
              "<style>\n",
              "  .colab-df-quickchart {\n",
              "      --bg-color: #E8F0FE;\n",
              "      --fill-color: #1967D2;\n",
              "      --hover-bg-color: #E2EBFA;\n",
              "      --hover-fill-color: #174EA6;\n",
              "      --disabled-fill-color: #AAA;\n",
              "      --disabled-bg-color: #DDD;\n",
              "  }\n",
              "\n",
              "  [theme=dark] .colab-df-quickchart {\n",
              "      --bg-color: #3B4455;\n",
              "      --fill-color: #D2E3FC;\n",
              "      --hover-bg-color: #434B5C;\n",
              "      --hover-fill-color: #FFFFFF;\n",
              "      --disabled-bg-color: #3B4455;\n",
              "      --disabled-fill-color: #666;\n",
              "  }\n",
              "\n",
              "  .colab-df-quickchart {\n",
              "    background-color: var(--bg-color);\n",
              "    border: none;\n",
              "    border-radius: 50%;\n",
              "    cursor: pointer;\n",
              "    display: none;\n",
              "    fill: var(--fill-color);\n",
              "    height: 32px;\n",
              "    padding: 0;\n",
              "    width: 32px;\n",
              "  }\n",
              "\n",
              "  .colab-df-quickchart:hover {\n",
              "    background-color: var(--hover-bg-color);\n",
              "    box-shadow: 0 1px 2px rgba(60, 64, 67, 0.3), 0 1px 3px 1px rgba(60, 64, 67, 0.15);\n",
              "    fill: var(--button-hover-fill-color);\n",
              "  }\n",
              "\n",
              "  .colab-df-quickchart-complete:disabled,\n",
              "  .colab-df-quickchart-complete:disabled:hover {\n",
              "    background-color: var(--disabled-bg-color);\n",
              "    fill: var(--disabled-fill-color);\n",
              "    box-shadow: none;\n",
              "  }\n",
              "\n",
              "  .colab-df-spinner {\n",
              "    border: 2px solid var(--fill-color);\n",
              "    border-color: transparent;\n",
              "    border-bottom-color: var(--fill-color);\n",
              "    animation:\n",
              "      spin 1s steps(1) infinite;\n",
              "  }\n",
              "\n",
              "  @keyframes spin {\n",
              "    0% {\n",
              "      border-color: transparent;\n",
              "      border-bottom-color: var(--fill-color);\n",
              "      border-left-color: var(--fill-color);\n",
              "    }\n",
              "    20% {\n",
              "      border-color: transparent;\n",
              "      border-left-color: var(--fill-color);\n",
              "      border-top-color: var(--fill-color);\n",
              "    }\n",
              "    30% {\n",
              "      border-color: transparent;\n",
              "      border-left-color: var(--fill-color);\n",
              "      border-top-color: var(--fill-color);\n",
              "      border-right-color: var(--fill-color);\n",
              "    }\n",
              "    40% {\n",
              "      border-color: transparent;\n",
              "      border-right-color: var(--fill-color);\n",
              "      border-top-color: var(--fill-color);\n",
              "    }\n",
              "    60% {\n",
              "      border-color: transparent;\n",
              "      border-right-color: var(--fill-color);\n",
              "    }\n",
              "    80% {\n",
              "      border-color: transparent;\n",
              "      border-right-color: var(--fill-color);\n",
              "      border-bottom-color: var(--fill-color);\n",
              "    }\n",
              "    90% {\n",
              "      border-color: transparent;\n",
              "      border-bottom-color: var(--fill-color);\n",
              "    }\n",
              "  }\n",
              "</style>\n",
              "\n",
              "  <script>\n",
              "    async function quickchart(key) {\n",
              "      const quickchartButtonEl =\n",
              "        document.querySelector('#' + key + ' button');\n",
              "      quickchartButtonEl.disabled = true;  // To prevent multiple clicks.\n",
              "      quickchartButtonEl.classList.add('colab-df-spinner');\n",
              "      try {\n",
              "        const charts = await google.colab.kernel.invokeFunction(\n",
              "            'suggestCharts', [key], {});\n",
              "      } catch (error) {\n",
              "        console.error('Error during call to suggestCharts:', error);\n",
              "      }\n",
              "      quickchartButtonEl.classList.remove('colab-df-spinner');\n",
              "      quickchartButtonEl.classList.add('colab-df-quickchart-complete');\n",
              "    }\n",
              "    (() => {\n",
              "      let quickchartButtonEl =\n",
              "        document.querySelector('#df-4116cd7c-dcf6-495a-bcc9-3504ca406ab0 button');\n",
              "      quickchartButtonEl.style.display =\n",
              "        google.colab.kernel.accessAllowed ? 'block' : 'none';\n",
              "    })();\n",
              "  </script>\n",
              "</div>\n",
              "    </div>\n",
              "  </div>\n"
            ],
            "text/plain": [
              "               age          sex           cp     trestbps        chol  \\\n",
              "count  1025.000000  1025.000000  1025.000000  1025.000000  1025.00000   \n",
              "mean     54.434146     0.695610     0.942439   131.611707   246.00000   \n",
              "std       9.072290     0.460373     1.029641    17.516718    51.59251   \n",
              "min      29.000000     0.000000     0.000000    94.000000   126.00000   \n",
              "25%      48.000000     0.000000     0.000000   120.000000   211.00000   \n",
              "50%      56.000000     1.000000     1.000000   130.000000   240.00000   \n",
              "75%      61.000000     1.000000     2.000000   140.000000   275.00000   \n",
              "max      77.000000     1.000000     3.000000   200.000000   564.00000   \n",
              "\n",
              "               fbs      restecg      thalach        exang      oldpeak  \\\n",
              "count  1025.000000  1025.000000  1025.000000  1025.000000  1025.000000   \n",
              "mean      0.149268     0.529756   149.114146     0.336585     1.071512   \n",
              "std       0.356527     0.527878    23.005724     0.472772     1.175053   \n",
              "min       0.000000     0.000000    71.000000     0.000000     0.000000   \n",
              "25%       0.000000     0.000000   132.000000     0.000000     0.000000   \n",
              "50%       0.000000     1.000000   152.000000     0.000000     0.800000   \n",
              "75%       0.000000     1.000000   166.000000     1.000000     1.800000   \n",
              "max       1.000000     2.000000   202.000000     1.000000     6.200000   \n",
              "\n",
              "             slope           ca         thal       target  \n",
              "count  1025.000000  1025.000000  1025.000000  1025.000000  \n",
              "mean      1.385366     0.754146     2.323902     0.513171  \n",
              "std       0.617755     1.030798     0.620660     0.500070  \n",
              "min       0.000000     0.000000     0.000000     0.000000  \n",
              "25%       1.000000     0.000000     2.000000     0.000000  \n",
              "50%       1.000000     0.000000     2.000000     1.000000  \n",
              "75%       2.000000     1.000000     3.000000     1.000000  \n",
              "max       2.000000     4.000000     3.000000     1.000000  "
            ]
          },
          "execution_count": 7,
          "metadata": {},
          "output_type": "execute_result"
        }
      ],
      "source": [
        "dataset.describe()"
      ]
    },
    {
      "cell_type": "code",
      "execution_count": null,
      "metadata": {
        "colab": {
          "base_uri": "https://localhost:8080/"
        },
        "id": "oZpNmZUeyTTH",
        "outputId": "c5e56264-6edd-4526-990a-d27da37eeaf8"
      },
      "outputs": [
        {
          "name": "stdout",
          "output_type": "stream",
          "text": [
            "<class 'pandas.core.frame.DataFrame'>\n",
            "RangeIndex: 1025 entries, 0 to 1024\n",
            "Data columns (total 14 columns):\n",
            " #   Column    Non-Null Count  Dtype  \n",
            "---  ------    --------------  -----  \n",
            " 0   age       1025 non-null   int64  \n",
            " 1   sex       1025 non-null   int64  \n",
            " 2   cp        1025 non-null   int64  \n",
            " 3   trestbps  1025 non-null   int64  \n",
            " 4   chol      1025 non-null   int64  \n",
            " 5   fbs       1025 non-null   int64  \n",
            " 6   restecg   1025 non-null   int64  \n",
            " 7   thalach   1025 non-null   int64  \n",
            " 8   exang     1025 non-null   int64  \n",
            " 9   oldpeak   1025 non-null   float64\n",
            " 10  slope     1025 non-null   int64  \n",
            " 11  ca        1025 non-null   int64  \n",
            " 12  thal      1025 non-null   int64  \n",
            " 13  target    1025 non-null   int64  \n",
            "dtypes: float64(1), int64(13)\n",
            "memory usage: 112.2 KB\n"
          ]
        }
      ],
      "source": [
        "dataset.info()\n"
      ]
    },
    {
      "cell_type": "code",
      "execution_count": null,
      "metadata": {
        "colab": {
          "base_uri": "https://localhost:8080/"
        },
        "id": "Ki_ahkLkyTZV",
        "outputId": "22f2ab82-563e-4b8f-def8-0c6867257c51"
      },
      "outputs": [
        {
          "name": "stdout",
          "output_type": "stream",
          "text": [
            "age:\t\t\tage\n",
            "sex:\t\t\t1: male, 0: female\n",
            "cp:\t\t\tchest pain type, 1: typical angina, 2: atypical angina, 3: non-anginal pain, 4: asymptomatic\n",
            "trestbps:\t\t\tresting blood pressure\n",
            "chol:\t\t\t serum cholestoral in mg/dl\n",
            "fbs:\t\t\tfasting blood sugar > 120 mg/dl\n",
            "restecg:\t\t\tresting electrocardiographic results (values 0,1,2)\n",
            "thalach:\t\t\t maximum heart rate achieved\n",
            "exang:\t\t\texercise induced angina\n",
            "oldpeak:\t\t\toldpeak = ST depression induced by exercise relative to rest\n",
            "slope:\t\t\tthe slope of the peak exercise ST segment\n",
            "ca:\t\t\tnumber of major vessels (0-3) colored by flourosopy\n",
            "thal:\t\t\tthal: 3 = normal; 6 = fixed defect; 7 = reversable defect\n"
          ]
        }
      ],
      "source": [
        "info = [\"age\",\"1: male, 0: female\",\"chest pain type, 1: typical angina, 2: atypical angina, 3: non-anginal pain, 4: asymptomatic\",\"resting blood pressure\",\" serum cholestoral in mg/dl\",\"fasting blood sugar > 120 mg/dl\",\"resting electrocardiographic results (values 0,1,2)\",\" maximum heart rate achieved\",\"exercise induced angina\",\"oldpeak = ST depression induced by exercise relative to rest\",\"the slope of the peak exercise ST segment\",\"number of major vessels (0-3) colored by flourosopy\",\"thal: 3 = normal; 6 = fixed defect; 7 = reversable defect\"]\n",
        "\n",
        "\n",
        "\n",
        "for i in range(len(info)):\n",
        "    print(dataset.columns[i]+\":\\t\\t\\t\"+info[i])"
      ]
    },
    {
      "cell_type": "code",
      "execution_count": null,
      "metadata": {
        "colab": {
          "base_uri": "https://localhost:8080/"
        },
        "id": "J-i7l5dzyTcq",
        "outputId": "dfbe70b3-49cf-4e77-a82b-aa9def45a75c"
      },
      "outputs": [
        {
          "data": {
            "text/plain": [
              "count    1025.000000\n",
              "mean        0.513171\n",
              "std         0.500070\n",
              "min         0.000000\n",
              "25%         0.000000\n",
              "50%         1.000000\n",
              "75%         1.000000\n",
              "max         1.000000\n",
              "Name: target, dtype: float64"
            ]
          },
          "execution_count": 10,
          "metadata": {},
          "output_type": "execute_result"
        }
      ],
      "source": [
        "dataset[\"target\"].describe()\n"
      ]
    },
    {
      "cell_type": "code",
      "execution_count": null,
      "metadata": {
        "colab": {
          "base_uri": "https://localhost:8080/"
        },
        "id": "xMrXOoS1yTf2",
        "outputId": "f40a078e-35d1-4420-f6e3-d1694caaf661"
      },
      "outputs": [
        {
          "data": {
            "text/plain": [
              "array([0, 1])"
            ]
          },
          "execution_count": 11,
          "metadata": {},
          "output_type": "execute_result"
        }
      ],
      "source": [
        "dataset[\"target\"].unique()"
      ]
    },
    {
      "cell_type": "code",
      "execution_count": null,
      "metadata": {
        "colab": {
          "base_uri": "https://localhost:8080/"
        },
        "id": "ZkzNYGyEyTi8",
        "outputId": "66a7c72d-c5c5-4370-ccfb-b6e22ce8990b"
      },
      "outputs": [
        {
          "name": "stdout",
          "output_type": "stream",
          "text": [
            "target      1.000000\n",
            "oldpeak     0.438441\n",
            "exang       0.438029\n",
            "cp          0.434854\n",
            "thalach     0.422895\n",
            "ca          0.382085\n",
            "slope       0.345512\n",
            "thal        0.337838\n",
            "sex         0.279501\n",
            "age         0.229324\n",
            "trestbps    0.138772\n",
            "restecg     0.134468\n",
            "chol        0.099966\n",
            "fbs         0.041164\n",
            "Name: target, dtype: float64\n"
          ]
        }
      ],
      "source": [
        "print(dataset.corr()[\"target\"].abs().sort_values(ascending=False))"
      ]
    },
    {
      "cell_type": "code",
      "execution_count": null,
      "metadata": {
        "id": "ksGMr0_MyTlx"
      },
      "outputs": [],
      "source": [
        "from sklearn.model_selection import train_test_split\n",
        "\n",
        "predictors = dataset.drop(\"target\",axis=1)\n",
        "target = dataset[\"target\"]\n",
        "\n",
        "X_train,X_test,Y_train,Y_test = train_test_split(predictors,target,test_size=0.20,random_state=0)"
      ]
    },
    {
      "cell_type": "code",
      "execution_count": null,
      "metadata": {
        "colab": {
          "base_uri": "https://localhost:8080/"
        },
        "id": "pPCpWeTHyTo3",
        "outputId": "f1d8ffc2-b01a-475e-e8eb-d21bbbe2b96a"
      },
      "outputs": [
        {
          "data": {
            "text/plain": [
              "(820, 13)"
            ]
          },
          "execution_count": 14,
          "metadata": {},
          "output_type": "execute_result"
        }
      ],
      "source": [
        "X_train.shape\n",
        "\n"
      ]
    },
    {
      "cell_type": "code",
      "execution_count": null,
      "metadata": {
        "colab": {
          "base_uri": "https://localhost:8080/"
        },
        "id": "heM_jn73yTsB",
        "outputId": "8f85b7fd-896d-4083-cac0-31fcdddf4192"
      },
      "outputs": [
        {
          "data": {
            "text/plain": [
              "(205, 13)"
            ]
          },
          "execution_count": 15,
          "metadata": {},
          "output_type": "execute_result"
        }
      ],
      "source": [
        "X_test.shape\n"
      ]
    },
    {
      "cell_type": "code",
      "execution_count": null,
      "metadata": {
        "colab": {
          "base_uri": "https://localhost:8080/"
        },
        "id": "qL9pNBCDyTu6",
        "outputId": "6430b318-1312-4451-e508-2b71f380575d"
      },
      "outputs": [
        {
          "data": {
            "text/plain": [
              "(820,)"
            ]
          },
          "execution_count": 16,
          "metadata": {},
          "output_type": "execute_result"
        }
      ],
      "source": [
        "Y_train.shape"
      ]
    },
    {
      "cell_type": "code",
      "execution_count": null,
      "metadata": {
        "colab": {
          "base_uri": "https://localhost:8080/"
        },
        "id": "bhtmAXLlyTxw",
        "outputId": "f898ffaf-e0e0-441e-c497-553d5dfc5c7b"
      },
      "outputs": [
        {
          "data": {
            "text/plain": [
              "(205,)"
            ]
          },
          "execution_count": 17,
          "metadata": {},
          "output_type": "execute_result"
        }
      ],
      "source": [
        "Y_test.shape\n"
      ]
    },
    {
      "cell_type": "code",
      "execution_count": null,
      "metadata": {
        "id": "EX-pHgg4zUjV"
      },
      "outputs": [],
      "source": [
        "from sklearn.metrics import accuracy_score"
      ]
    },
    {
      "cell_type": "code",
      "execution_count": null,
      "metadata": {
        "id": "9gtOfX-CzUli"
      },
      "outputs": [],
      "source": [
        "from sklearn.linear_model import LogisticRegression\n",
        "\n",
        "lr = LogisticRegression()\n",
        "\n",
        "lr.fit(X_train,Y_train)\n",
        "\n",
        "Y_pred_lr = lr.predict(X_test)"
      ]
    },
    {
      "cell_type": "code",
      "execution_count": null,
      "metadata": {
        "colab": {
          "base_uri": "https://localhost:8080/"
        },
        "id": "SFOLi2yCzUoQ",
        "outputId": "41e30343-ac02-4e63-be1e-6c6e87f45c6f"
      },
      "outputs": [
        {
          "data": {
            "text/plain": [
              "(205,)"
            ]
          },
          "execution_count": 20,
          "metadata": {},
          "output_type": "execute_result"
        }
      ],
      "source": [
        "Y_pred_lr.shape"
      ]
    },
    {
      "cell_type": "code",
      "execution_count": null,
      "metadata": {
        "colab": {
          "base_uri": "https://localhost:8080/"
        },
        "id": "An45G2xIzUqt",
        "outputId": "4ecf1546-f9e4-425b-b90b-2ff690762b90"
      },
      "outputs": [
        {
          "name": "stdout",
          "output_type": "stream",
          "text": [
            "The accuracy score achieved using Logistic Regression is: 86.34 %\n"
          ]
        }
      ],
      "source": [
        "score_lr = round(accuracy_score(Y_pred_lr,Y_test)*100,2)\n",
        "\n",
        "print(\"The accuracy score achieved using Logistic Regression is: \"+str(score_lr)+\" %\")"
      ]
    },
    {
      "cell_type": "code",
      "execution_count": null,
      "metadata": {
        "id": "ysUdTRBZzUtz"
      },
      "outputs": [],
      "source": []
    },
    {
      "cell_type": "code",
      "execution_count": null,
      "metadata": {
        "id": "J0oYbGA_zUwR"
      },
      "outputs": [],
      "source": []
    },
    {
      "cell_type": "code",
      "execution_count": null,
      "metadata": {
        "id": "WMgiAzxKzUyP"
      },
      "outputs": [],
      "source": [
        "from sklearn import svm\n",
        "\n",
        "sv = svm.SVC(kernel='linear')\n",
        "\n",
        "sv.fit(X_train, Y_train)\n",
        "\n",
        "Y_pred_svm = sv.predict(X_test)"
      ]
    },
    {
      "cell_type": "code",
      "execution_count": null,
      "metadata": {
        "colab": {
          "base_uri": "https://localhost:8080/"
        },
        "id": "AggpgPYizU02",
        "outputId": "914b1edf-6b88-4243-cc12-bdf0df867526"
      },
      "outputs": [
        {
          "data": {
            "text/plain": [
              "(205,)"
            ]
          },
          "execution_count": 23,
          "metadata": {},
          "output_type": "execute_result"
        }
      ],
      "source": [
        "Y_pred_svm.shape"
      ]
    },
    {
      "cell_type": "code",
      "execution_count": null,
      "metadata": {
        "colab": {
          "base_uri": "https://localhost:8080/"
        },
        "id": "F18LVgkvzU3T",
        "outputId": "fc7ac32e-09b2-4af0-ba79-71d1e43a7391"
      },
      "outputs": [
        {
          "name": "stdout",
          "output_type": "stream",
          "text": [
            "The accuracy score achieved using Linear SVM is: 83.9 %\n"
          ]
        }
      ],
      "source": [
        "score_svm = round(accuracy_score(Y_pred_svm,Y_test)*100,2)\n",
        "\n",
        "print(\"The accuracy score achieved using Linear SVM is: \"+str(score_svm)+\" %\")\n"
      ]
    },
    {
      "cell_type": "code",
      "execution_count": null,
      "metadata": {
        "colab": {
          "base_uri": "https://localhost:8080/",
          "height": 484
        },
        "id": "t4G8Ehp4zU5x",
        "outputId": "aa5334f2-e5ba-47a1-a1fe-c9d157407364"
      },
      "outputs": [
        {
          "name": "stdout",
          "output_type": "stream",
          "text": [
            "1    526\n",
            "0    499\n",
            "Name: target, dtype: int64\n"
          ]
        },
        {
          "data": {
            "image/png": "[encoded data removed]",
            "text/plain": [
              "<Figure size 640x480 with 1 Axes>"
            ]
          },
          "metadata": {},
          "output_type": "display_data"
        }
      ],
      "source": [
        "y = dataset[\"target\"]\n",
        "\n",
        "sns.countplot(y)\n",
        "\n",
        "\n",
        "target_temp = dataset.target.value_counts()\n",
        "\n",
        "print(target_temp)"
      ]
    },
    {
      "cell_type": "code",
      "execution_count": null,
      "metadata": {
        "colab": {
          "base_uri": "https://localhost:8080/"
        },
        "id": "81qxPVtWzU8f",
        "outputId": "6089df71-47d6-4ae6-b5b9-33573d5b3b36"
      },
      "outputs": [
        {
          "name": "stdout",
          "output_type": "stream",
          "text": [
            "Percentage of patience without heart problems: 164.69\n",
            "Percentage of patience with heart problems: 173.6\n"
          ]
        }
      ],
      "source": [
        "print(\"Percentage of patience without heart problems: \"+str(round(target_temp[0]*100/303,2)))\n",
        "print(\"Percentage of patience with heart problems: \"+str(round(target_temp[1]*100/303,2)))"
      ]
    },
    {
      "cell_type": "code",
      "execution_count": null,
      "metadata": {
        "id": "eKrogo8iz7al"
      },
      "outputs": [],
      "source": [
        "from sklearn.metrics import accuracy_score"
      ]
    },
    {
      "cell_type": "code",
      "execution_count": null,
      "metadata": {
        "id": "qomogaMiz7c6"
      },
      "outputs": [],
      "source": [
        "from sklearn.linear_model import LogisticRegression\n",
        "\n",
        "lr = LogisticRegression()\n",
        "\n",
        "lr.fit(X_train,Y_train)\n",
        "\n",
        "Y_pred_lr = lr.predict(X_test)"
      ]
    },
    {
      "cell_type": "code",
      "execution_count": null,
      "metadata": {
        "colab": {
          "base_uri": "https://localhost:8080/"
        },
        "id": "y34RGWtkz7fy",
        "outputId": "8858888a-a056-4d58-e0b0-dce140f4a193"
      },
      "outputs": [
        {
          "data": {
            "text/plain": [
              "(205,)"
            ]
          },
          "execution_count": 29,
          "metadata": {},
          "output_type": "execute_result"
        }
      ],
      "source": [
        "Y_pred_lr.shape"
      ]
    },
    {
      "cell_type": "code",
      "execution_count": null,
      "metadata": {
        "colab": {
          "base_uri": "https://localhost:8080/"
        },
        "id": "053VOQH4z7iW",
        "outputId": "c030478a-2a1d-4666-ee29-6de3360bd853"
      },
      "outputs": [
        {
          "name": "stdout",
          "output_type": "stream",
          "text": [
            "The accuracy score achieved using Logistic Regression is: 86.34 %\n"
          ]
        }
      ],
      "source": [
        "score_lr = round(accuracy_score(Y_pred_lr,Y_test)*100,2)\n",
        "\n",
        "print(\"The accuracy score achieved using Logistic Regression is: \"+str(score_lr)+\" %\")"
      ]
    },
    {
      "cell_type": "code",
      "execution_count": null,
      "metadata": {
        "id": "mlCnVKJPz7oH"
      },
      "outputs": [],
      "source": []
    },
    {
      "cell_type": "code",
      "execution_count": null,
      "metadata": {
        "id": "uu_jeBgLz7qf"
      },
      "outputs": [],
      "source": [
        "from sklearn.naive_bayes import GaussianNB\n",
        "\n",
        "nb = GaussianNB()\n",
        "\n",
        "nb.fit(X_train,Y_train)\n",
        "\n",
        "Y_pred_nb = nb.predict(X_test)"
      ]
    },
    {
      "cell_type": "code",
      "execution_count": null,
      "metadata": {
        "colab": {
          "base_uri": "https://localhost:8080/"
        },
        "id": "6MRSdzliz7tH",
        "outputId": "25437378-5596-43b0-cdd5-a28888fe5411"
      },
      "outputs": [
        {
          "data": {
            "text/plain": [
              "(205,)"
            ]
          },
          "execution_count": 32,
          "metadata": {},
          "output_type": "execute_result"
        }
      ],
      "source": [
        "\n",
        "Y_pred_nb.shape"
      ]
    },
    {
      "cell_type": "code",
      "execution_count": null,
      "metadata": {
        "colab": {
          "base_uri": "https://localhost:8080/"
        },
        "id": "dzvRlqkiz7v1",
        "outputId": "f3caa561-6503-4a59-f3ca-7f709b9fac25"
      },
      "outputs": [
        {
          "name": "stdout",
          "output_type": "stream",
          "text": [
            "The accuracy score achieved using Naive Bayes is: 85.37 %\n"
          ]
        }
      ],
      "source": [
        "score_nb = round(accuracy_score(Y_pred_nb,Y_test)*100,2)\n",
        "\n",
        "print(\"The accuracy score achieved using Naive Bayes is: \"+str(score_nb)+\" %\")"
      ]
    },
    {
      "cell_type": "code",
      "execution_count": null,
      "metadata": {
        "id": "7Huszy3Nz7yR"
      },
      "outputs": [],
      "source": []
    },
    {
      "cell_type": "code",
      "execution_count": null,
      "metadata": {
        "id": "zW59cTSPz703"
      },
      "outputs": [],
      "source": [
        "from sklearn import svm\n",
        "\n",
        "sv = svm.SVC(kernel='linear')\n",
        "\n",
        "sv.fit(X_train, Y_train)\n",
        "\n",
        "Y_pred_svm = sv.predict(X_test)"
      ]
    },
    {
      "cell_type": "code",
      "execution_count": null,
      "metadata": {
        "colab": {
          "base_uri": "https://localhost:8080/"
        },
        "id": "vlo8pyCdz73e",
        "outputId": "1e1ade8e-9a1d-4f65-94ea-bf0c4418cb17"
      },
      "outputs": [
        {
          "data": {
            "text/plain": [
              "(205,)"
            ]
          },
          "execution_count": 35,
          "metadata": {},
          "output_type": "execute_result"
        }
      ],
      "source": [
        "Y_pred_svm.shape"
      ]
    },
    {
      "cell_type": "code",
      "execution_count": null,
      "metadata": {
        "colab": {
          "base_uri": "https://localhost:8080/"
        },
        "id": "gZoGb11Bz76L",
        "outputId": "13739f7e-2ec3-4471-958a-35b3db56711c"
      },
      "outputs": [
        {
          "name": "stdout",
          "output_type": "stream",
          "text": [
            "The accuracy score achieved using Linear SVM is: 83.9 %\n"
          ]
        }
      ],
      "source": [
        "score_svm = round(accuracy_score(Y_pred_svm,Y_test)*100,2)\n",
        "\n",
        "print(\"The accuracy score achieved using Linear SVM is: \"+str(score_svm)+\" %\")"
      ]
    },
    {
      "cell_type": "code",
      "execution_count": null,
      "metadata": {
        "id": "5omo11qfz78q"
      },
      "outputs": [],
      "source": [
        "from sklearn.neighbors import KNeighborsClassifier\n",
        "\n",
        "knn = KNeighborsClassifier(n_neighbors=7)\n",
        "knn.fit(X_train,Y_train)\n",
        "Y_pred_knn=knn.predict(X_test)"
      ]
    },
    {
      "cell_type": "code",
      "execution_count": null,
      "metadata": {
        "colab": {
          "base_uri": "https://localhost:8080/"
        },
        "id": "O7t1NYTEzVGQ",
        "outputId": "352ae869-ed6d-4661-a87b-82349777b9b1"
      },
      "outputs": [
        {
          "data": {
            "text/plain": [
              "(205,)"
            ]
          },
          "execution_count": 38,
          "metadata": {},
          "output_type": "execute_result"
        }
      ],
      "source": [
        "Y_pred_knn.shape"
      ]
    },
    {
      "cell_type": "code",
      "execution_count": null,
      "metadata": {
        "colab": {
          "base_uri": "https://localhost:8080/"
        },
        "id": "YGOvm3dVyJ07",
        "outputId": "3e892cb7-8524-4b5f-e656-1e20f41ce8c4"
      },
      "outputs": [
        {
          "name": "stdout",
          "output_type": "stream",
          "text": [
            "The accuracy score achieved using KNN is: 72.2 %\n"
          ]
        }
      ],
      "source": [
        "\n",
        "score_knn = round(accuracy_score(Y_pred_knn,Y_test)*100,2)\n",
        "\n",
        "print(\"The accuracy score achieved using KNN is: \"+str(score_knn)+\" %\")"
      ]
    },
    {
      "cell_type": "code",
      "execution_count": null,
      "metadata": {
        "id": "cloTEWL9-3mB"
      },
      "outputs": [],
      "source": [
        "from sklearn.tree import DecisionTreeClassifier\n",
        "\n",
        "max_accuracy = 0\n",
        "\n",
        "\n",
        "for x in range(200):\n",
        "    dt = DecisionTreeClassifier(random_state=x)\n",
        "    dt.fit(X_train,Y_train)\n",
        "    Y_pred_dt = dt.predict(X_test)\n",
        "    current_accuracy = round(accuracy_score(Y_pred_dt,Y_test)*100,2)\n",
        "    if(current_accuracy>max_accuracy):\n",
        "        max_accuracy = current_accuracy\n",
        "        best_x = x\n",
        "\n",
        "#print(max_accuracy)\n",
        "#print(best_x)\n",
        "\n",
        "\n",
        "dt = DecisionTreeClassifier(random_state=x)\n",
        "dt.fit(X_train,Y_train)\n",
        "Y_pred_dt = dt.predict(X_test)"
      ]
    },
    {
      "cell_type": "code",
      "execution_count": null,
      "metadata": {
        "colab": {
          "base_uri": "https://localhost:8080/"
        },
        "id": "wyFJBjDI-3uQ",
        "outputId": "7b724a90-8915-43f6-ed3d-e50b60dc4a5a"
      },
      "outputs": [
        {
          "name": "stdout",
          "output_type": "stream",
          "text": [
            "(205,)\n"
          ]
        }
      ],
      "source": [
        "print(Y_pred_dt.shape)\n",
        "score_dt = round(accuracy_score(Y_pred_dt,Y_test)*100,2)"
      ]
    },
    {
      "cell_type": "code",
      "execution_count": null,
      "metadata": {
        "colab": {
          "base_uri": "https://localhost:8080/"
        },
        "id": "z0OO_Ge6-3wW",
        "outputId": "d95f0be5-f97f-4250-f408-7d03b965aa60"
      },
      "outputs": [
        {
          "name": "stdout",
          "output_type": "stream",
          "text": [
            "The accuracy score achieved using Decision Tree is: 81.97 %\n"
          ]
        }
      ],
      "source": [
        "\n",
        "print(\"The accuracy score achieved using Decision Tree is: \"+str(score_dt)+\" %\")"
      ]
    },
    {
      "cell_type": "code",
      "execution_count": null,
      "metadata": {
        "id": "Q1LP1gr6-3y9"
      },
      "outputs": [],
      "source": []
    },
    {
      "cell_type": "code",
      "execution_count": null,
      "metadata": {
        "id": "EHrvsWfh-31K"
      },
      "outputs": [],
      "source": [
        "from sklearn.ensemble import RandomForestClassifier\n",
        "\n",
        "max_accuracy = 0\n",
        "\n",
        "\n",
        "for x in range(2000):\n",
        "    rf = RandomForestClassifier(random_state=x)\n",
        "    rf.fit(X_train,Y_train)\n",
        "    Y_pred_rf = rf.predict(X_test)\n",
        "    current_accuracy = round(accuracy_score(Y_pred_rf,Y_test)*100,2)\n",
        "    if(current_accuracy>max_accuracy):\n",
        "        max_accuracy = current_accuracy\n",
        "        best_x = x\n",
        "\n",
        "#print(max_accuracy)\n",
        "#print(best_x)\n",
        "\n",
        "rf = RandomForestClassifier(random_state=best_x)\n",
        "rf.fit(X_train,Y_train)\n",
        "Y_pred_rf = rf.predict(X_test)"
      ]
    },
    {
      "cell_type": "code",
      "execution_count": null,
      "metadata": {
        "id": "7_aONBzR-33o"
      },
      "outputs": [],
      "source": [
        "Y_pred_rf.shape\n",
        "score_rf = round(accuracy_score(Y_pred_rf,Y_test)*100,2)"
      ]
    },
    {
      "cell_type": "code",
      "execution_count": null,
      "metadata": {
        "colab": {
          "base_uri": "https://localhost:8080/"
        },
        "id": "kUkU2OoO-36H",
        "outputId": "06fa5f95-fcb9-48ff-a11e-795a664ae75a"
      },
      "outputs": [
        {
          "name": "stdout",
          "output_type": "stream",
          "text": [
            "The accuracy score achieved using Decision Tree is: 90.16 %\n"
          ]
        }
      ],
      "source": [
        "\n",
        "\n",
        "print(\"The accuracy score achieved using Decision Tree is: \"+str(score_rf)+\" %\")"
      ]
    },
    {
      "cell_type": "code",
      "execution_count": null,
      "metadata": {
        "id": "dsO2bU0j-38d"
      },
      "outputs": [],
      "source": [
        "import xgboost as xgb\n",
        "\n",
        "xgb_model = xgb.XGBClassifier(objective=\"binary:logistic\", random_state=42)\n",
        "xgb_model.fit(X_train, Y_train)\n",
        "\n",
        "Y_pred_xgb = xgb_model.predict(X_test)"
      ]
    },
    {
      "cell_type": "code",
      "execution_count": null,
      "metadata": {
        "id": "jvFw9MWf-3-k"
      },
      "outputs": [],
      "source": [
        "Y_pred_xgb.shape\n",
        "score_xgb = round(accuracy_score(Y_pred_xgb,Y_test)*100,2)"
      ]
    },
    {
      "cell_type": "code",
      "execution_count": null,
      "metadata": {
        "colab": {
          "base_uri": "https://localhost:8080/"
        },
        "id": "CQCvd6bH-4BK",
        "outputId": "d2536730-abac-4ba1-d6b3-a8a4147041ab"
      },
      "outputs": [
        {
          "name": "stdout",
          "output_type": "stream",
          "text": [
            "The accuracy score achieved using XGBoost is: 78.69 %\n"
          ]
        }
      ],
      "source": [
        "\n",
        "\n",
        "print(\"The accuracy score achieved using XGBoost is: \"+str(score_xgb)+\" %\")"
      ]
    },
    {
      "cell_type": "code",
      "execution_count": null,
      "metadata": {
        "id": "268hZR_N-4Df"
      },
      "outputs": [],
      "source": [
        "from keras.models import Sequential\n",
        "from keras.layers import Dense"
      ]
    },
    {
      "cell_type": "code",
      "execution_count": null,
      "metadata": {
        "id": "t_YkM190_spK"
      },
      "outputs": [],
      "source": [
        "model = Sequential()\n",
        "model.add(Dense(11,activation='relu',input_dim=13))\n",
        "model.add(Dense(1,activation='sigmoid'))\n",
        "\n",
        "model.compile(loss='binary_crossentropy',optimizer='adam',metrics=['accuracy'])"
      ]
    },
    {
      "cell_type": "code",
      "execution_count": null,
      "metadata": {
        "colab": {
          "base_uri": "https://localhost:8080/"
        },
        "id": "NHH0M92w_srV",
        "outputId": "74006ef9-2dd0-477f-af2c-d7390b70f331"
      },
      "outputs": [
        {
          "name": "stdout",
          "output_type": "stream",
          "text": [
            "Epoch 1/300\n",
            "26/26 [==============================] - 1s 2ms/step - loss: 11.2792 - accuracy: 0.5268\n",
            "Epoch 2/300\n",
            "26/26 [==============================] - 0s 2ms/step - loss: 3.9026 - accuracy: 0.6159\n",
            "Epoch 3/300\n",
            "26/26 [==============================] - 0s 2ms/step - loss: 3.4696 - accuracy: 0.6244\n",
            "Epoch 4/300\n",
            "26/26 [==============================] - 0s 2ms/step - loss: 3.2796 - accuracy: 0.6354\n",
            "Epoch 5/300\n",
            "26/26 [==============================] - 0s 2ms/step - loss: 3.1025 - accuracy: 0.6220\n",
            "Epoch 6/300\n",
            "26/26 [==============================] - 0s 2ms/step - loss: 2.9071 - accuracy: 0.6329\n",
            "Epoch 7/300\n",
            "26/26 [==============================] - 0s 2ms/step - loss: 2.7171 - accuracy: 0.6366\n",
            "Epoch 8/300\n",
            "26/26 [==============================] - 0s 2ms/step - loss: 2.5418 - accuracy: 0.6415\n",
            "Epoch 9/300\n",
            "26/26 [==============================] - 0s 2ms/step - loss: 2.3295 - accuracy: 0.6280\n",
            "Epoch 10/300\n",
            "26/26 [==============================] - 0s 2ms/step - loss: 2.1598 - accuracy: 0.6451\n",
            "Epoch 11/300\n",
            "26/26 [==============================] - 0s 2ms/step - loss: 1.9414 - accuracy: 0.6476\n",
            "Epoch 12/300\n",
            "26/26 [==============================] - 0s 2ms/step - loss: 1.7746 - accuracy: 0.6390\n",
            "Epoch 13/300\n",
            "26/26 [==============================] - 0s 2ms/step - loss: 1.5770 - accuracy: 0.6500\n",
            "Epoch 14/300\n",
            "26/26 [==============================] - 0s 2ms/step - loss: 1.4108 - accuracy: 0.6500\n",
            "Epoch 15/300\n",
            "26/26 [==============================] - 0s 2ms/step - loss: 1.2382 - accuracy: 0.6573\n",
            "Epoch 16/300\n",
            "26/26 [==============================] - 0s 2ms/step - loss: 1.1088 - accuracy: 0.6610\n",
            "Epoch 17/300\n",
            "26/26 [==============================] - 0s 2ms/step - loss: 0.9847 - accuracy: 0.6780\n",
            "Epoch 18/300\n",
            "26/26 [==============================] - 0s 3ms/step - loss: 0.9122 - accuracy: 0.6805\n",
            "Epoch 19/300\n",
            "26/26 [==============================] - 0s 2ms/step - loss: 0.8243 - accuracy: 0.6805\n",
            "Epoch 20/300\n",
            "26/26 [==============================] - 0s 2ms/step - loss: 0.7870 - accuracy: 0.6793\n",
            "Epoch 21/300\n",
            "26/26 [==============================] - 0s 2ms/step - loss: 0.7529 - accuracy: 0.6756\n",
            "Epoch 22/300\n",
            "26/26 [==============================] - 0s 2ms/step - loss: 0.6992 - accuracy: 0.7134\n",
            "Epoch 23/300\n",
            "26/26 [==============================] - 0s 2ms/step - loss: 0.6616 - accuracy: 0.7159\n",
            "Epoch 24/300\n",
            "26/26 [==============================] - 0s 2ms/step - loss: 0.6428 - accuracy: 0.7305\n",
            "Epoch 25/300\n",
            "26/26 [==============================] - 0s 2ms/step - loss: 0.6124 - accuracy: 0.7415\n",
            "Epoch 26/300\n",
            "26/26 [==============================] - 0s 2ms/step - loss: 0.5937 - accuracy: 0.7378\n",
            "Epoch 27/300\n",
            "26/26 [==============================] - 0s 2ms/step - loss: 0.5760 - accuracy: 0.7488\n",
            "Epoch 28/300\n",
            "26/26 [==============================] - 0s 2ms/step - loss: 0.5556 - accuracy: 0.7439\n",
            "Epoch 29/300\n",
            "26/26 [==============================] - 0s 4ms/step - loss: 0.5439 - accuracy: 0.7598\n",
            "Epoch 30/300\n",
            "26/26 [==============================] - 0s 3ms/step - loss: 0.5219 - accuracy: 0.7598\n",
            "Epoch 31/300\n",
            "26/26 [==============================] - 0s 3ms/step - loss: 0.5189 - accuracy: 0.7707\n",
            "Epoch 32/300\n",
            "26/26 [==============================] - 0s 3ms/step - loss: 0.5141 - accuracy: 0.7585\n",
            "Epoch 33/300\n",
            "26/26 [==============================] - 0s 3ms/step - loss: 0.4917 - accuracy: 0.7780\n",
            "Epoch 34/300\n",
            "26/26 [==============================] - 0s 3ms/step - loss: 0.4778 - accuracy: 0.7829\n",
            "Epoch 35/300\n",
            "26/26 [==============================] - 0s 3ms/step - loss: 0.4674 - accuracy: 0.7878\n",
            "Epoch 36/300\n",
            "26/26 [==============================] - 0s 3ms/step - loss: 0.4639 - accuracy: 0.7976\n",
            "Epoch 37/300\n",
            "26/26 [==============================] - 0s 3ms/step - loss: 0.4575 - accuracy: 0.7902\n",
            "Epoch 38/300\n",
            "26/26 [==============================] - 0s 3ms/step - loss: 0.4481 - accuracy: 0.7927\n",
            "Epoch 39/300\n",
            "26/26 [==============================] - 0s 3ms/step - loss: 0.4439 - accuracy: 0.7756\n",
            "Epoch 40/300\n",
            "26/26 [==============================] - 0s 3ms/step - loss: 0.4474 - accuracy: 0.7939\n",
            "Epoch 41/300\n",
            "26/26 [==============================] - 0s 4ms/step - loss: 0.4305 - accuracy: 0.7988\n",
            "Epoch 42/300\n",
            "26/26 [==============================] - 0s 2ms/step - loss: 0.4248 - accuracy: 0.8061\n",
            "Epoch 43/300\n",
            "26/26 [==============================] - 0s 3ms/step - loss: 0.4267 - accuracy: 0.8000\n",
            "Epoch 44/300\n",
            "26/26 [==============================] - 0s 3ms/step - loss: 0.4199 - accuracy: 0.8049\n",
            "Epoch 45/300\n",
            "26/26 [==============================] - 0s 3ms/step - loss: 0.4426 - accuracy: 0.7939\n",
            "Epoch 46/300\n",
            "26/26 [==============================] - 0s 3ms/step - loss: 0.4226 - accuracy: 0.7988\n",
            "Epoch 47/300\n",
            "26/26 [==============================] - 0s 3ms/step - loss: 0.4191 - accuracy: 0.8049\n",
            "Epoch 48/300\n",
            "26/26 [==============================] - 0s 3ms/step - loss: 0.4058 - accuracy: 0.8220\n",
            "Epoch 49/300\n",
            "26/26 [==============================] - 0s 3ms/step - loss: 0.4040 - accuracy: 0.8244\n",
            "Epoch 50/300\n",
            "26/26 [==============================] - 0s 3ms/step - loss: 0.4014 - accuracy: 0.8256\n",
            "Epoch 51/300\n",
            "26/26 [==============================] - 0s 3ms/step - loss: 0.4080 - accuracy: 0.8183\n",
            "Epoch 52/300\n",
            "26/26 [==============================] - 0s 3ms/step - loss: 0.4006 - accuracy: 0.8244\n",
            "Epoch 53/300\n",
            "26/26 [==============================] - 0s 3ms/step - loss: 0.4047 - accuracy: 0.8183\n",
            "Epoch 54/300\n",
            "26/26 [==============================] - 0s 3ms/step - loss: 0.4037 - accuracy: 0.8220\n",
            "Epoch 55/300\n",
            "26/26 [==============================] - 0s 3ms/step - loss: 0.4011 - accuracy: 0.8146\n",
            "Epoch 56/300\n",
            "26/26 [==============================] - 0s 3ms/step - loss: 0.3938 - accuracy: 0.8256\n",
            "Epoch 57/300\n",
            "26/26 [==============================] - 0s 3ms/step - loss: 0.3971 - accuracy: 0.8317\n",
            "Epoch 58/300\n",
            "26/26 [==============================] - 0s 3ms/step - loss: 0.3901 - accuracy: 0.8220\n",
            "Epoch 59/300\n",
            "26/26 [==============================] - 0s 3ms/step - loss: 0.3897 - accuracy: 0.8354\n",
            "Epoch 60/300\n",
            "26/26 [==============================] - 0s 3ms/step - loss: 0.3937 - accuracy: 0.8195\n",
            "Epoch 61/300\n",
            "26/26 [==============================] - 0s 3ms/step - loss: 0.3935 - accuracy: 0.8256\n",
            "Epoch 62/300\n",
            "26/26 [==============================] - 0s 3ms/step - loss: 0.3883 - accuracy: 0.8354\n",
            "Epoch 63/300\n",
            "26/26 [==============================] - 0s 3ms/step - loss: 0.3935 - accuracy: 0.8268\n",
            "Epoch 64/300\n",
            "26/26 [==============================] - 0s 3ms/step - loss: 0.3945 - accuracy: 0.8220\n",
            "Epoch 65/300\n",
            "26/26 [==============================] - 0s 3ms/step - loss: 0.3887 - accuracy: 0.8280\n",
            "Epoch 66/300\n",
            "26/26 [==============================] - 0s 3ms/step - loss: 0.3917 - accuracy: 0.8366\n",
            "Epoch 67/300\n",
            "26/26 [==============================] - 0s 3ms/step - loss: 0.3847 - accuracy: 0.8280\n",
            "Epoch 68/300\n",
            "26/26 [==============================] - 0s 3ms/step - loss: 0.3821 - accuracy: 0.8329\n",
            "Epoch 69/300\n",
            "26/26 [==============================] - 0s 2ms/step - loss: 0.3943 - accuracy: 0.8305\n",
            "Epoch 70/300\n",
            "26/26 [==============================] - 0s 2ms/step - loss: 0.4151 - accuracy: 0.8098\n",
            "Epoch 71/300\n",
            "26/26 [==============================] - 0s 2ms/step - loss: 0.4007 - accuracy: 0.8146\n",
            "Epoch 72/300\n",
            "26/26 [==============================] - 0s 2ms/step - loss: 0.3801 - accuracy: 0.8341\n",
            "Epoch 73/300\n",
            "26/26 [==============================] - 0s 2ms/step - loss: 0.3859 - accuracy: 0.8415\n",
            "Epoch 74/300\n",
            "26/26 [==============================] - 0s 2ms/step - loss: 0.3924 - accuracy: 0.8280\n",
            "Epoch 75/300\n",
            "26/26 [==============================] - 0s 2ms/step - loss: 0.3824 - accuracy: 0.8244\n",
            "Epoch 76/300\n",
            "26/26 [==============================] - 0s 2ms/step - loss: 0.3847 - accuracy: 0.8329\n",
            "Epoch 77/300\n",
            "26/26 [==============================] - 0s 2ms/step - loss: 0.3750 - accuracy: 0.8463\n",
            "Epoch 78/300\n",
            "26/26 [==============================] - 0s 2ms/step - loss: 0.3818 - accuracy: 0.8427\n",
            "Epoch 79/300\n",
            "26/26 [==============================] - 0s 2ms/step - loss: 0.3746 - accuracy: 0.8354\n",
            "Epoch 80/300\n",
            "26/26 [==============================] - 0s 2ms/step - loss: 0.3830 - accuracy: 0.8317\n",
            "Epoch 81/300\n",
            "26/26 [==============================] - 0s 2ms/step - loss: 0.4087 - accuracy: 0.8183\n",
            "Epoch 82/300\n",
            "26/26 [==============================] - 0s 2ms/step - loss: 0.3904 - accuracy: 0.8220\n",
            "Epoch 83/300\n",
            "26/26 [==============================] - 0s 2ms/step - loss: 0.3788 - accuracy: 0.8305\n",
            "Epoch 84/300\n",
            "26/26 [==============================] - 0s 2ms/step - loss: 0.3874 - accuracy: 0.8268\n",
            "Epoch 85/300\n",
            "26/26 [==============================] - 0s 2ms/step - loss: 0.3859 - accuracy: 0.8390\n",
            "Epoch 86/300\n",
            "26/26 [==============================] - 0s 2ms/step - loss: 0.3785 - accuracy: 0.8354\n",
            "Epoch 87/300\n",
            "26/26 [==============================] - 0s 2ms/step - loss: 0.3730 - accuracy: 0.8354\n",
            "Epoch 88/300\n",
            "26/26 [==============================] - 0s 2ms/step - loss: 0.3824 - accuracy: 0.8280\n",
            "Epoch 89/300\n",
            "26/26 [==============================] - 0s 2ms/step - loss: 0.3756 - accuracy: 0.8329\n",
            "Epoch 90/300\n",
            "26/26 [==============================] - 0s 2ms/step - loss: 0.3792 - accuracy: 0.8378\n",
            "Epoch 91/300\n",
            "26/26 [==============================] - 0s 2ms/step - loss: 0.3737 - accuracy: 0.8451\n",
            "Epoch 92/300\n",
            "26/26 [==============================] - 0s 2ms/step - loss: 0.3811 - accuracy: 0.8293\n",
            "Epoch 93/300\n",
            "26/26 [==============================] - 0s 2ms/step - loss: 0.4211 - accuracy: 0.8134\n",
            "Epoch 94/300\n",
            "26/26 [==============================] - 0s 2ms/step - loss: 0.3984 - accuracy: 0.8366\n",
            "Epoch 95/300\n",
            "26/26 [==============================] - 0s 2ms/step - loss: 0.3767 - accuracy: 0.8366\n",
            "Epoch 96/300\n",
            "26/26 [==============================] - 0s 2ms/step - loss: 0.3741 - accuracy: 0.8427\n",
            "Epoch 97/300\n",
            "26/26 [==============================] - 0s 2ms/step - loss: 0.3703 - accuracy: 0.8500\n",
            "Epoch 98/300\n",
            "26/26 [==============================] - 0s 2ms/step - loss: 0.3699 - accuracy: 0.8488\n",
            "Epoch 99/300\n",
            "26/26 [==============================] - 0s 2ms/step - loss: 0.3734 - accuracy: 0.8415\n",
            "Epoch 100/300\n",
            "26/26 [==============================] - 0s 2ms/step - loss: 0.3809 - accuracy: 0.8366\n",
            "Epoch 101/300\n",
            "26/26 [==============================] - 0s 2ms/step - loss: 0.3814 - accuracy: 0.8390\n",
            "Epoch 102/300\n",
            "26/26 [==============================] - 0s 2ms/step - loss: 0.3718 - accuracy: 0.8463\n",
            "Epoch 103/300\n",
            "26/26 [==============================] - 0s 2ms/step - loss: 0.3733 - accuracy: 0.8476\n",
            "Epoch 104/300\n",
            "26/26 [==============================] - 0s 2ms/step - loss: 0.3811 - accuracy: 0.8329\n",
            "Epoch 105/300\n",
            "26/26 [==============================] - 0s 2ms/step - loss: 0.3763 - accuracy: 0.8329\n",
            "Epoch 106/300\n",
            "26/26 [==============================] - 0s 2ms/step - loss: 0.3908 - accuracy: 0.8341\n",
            "Epoch 107/300\n",
            "26/26 [==============================] - 0s 2ms/step - loss: 0.3675 - accuracy: 0.8476\n",
            "Epoch 108/300\n",
            "26/26 [==============================] - 0s 2ms/step - loss: 0.3891 - accuracy: 0.8305\n",
            "Epoch 109/300\n",
            "26/26 [==============================] - 0s 2ms/step - loss: 0.3701 - accuracy: 0.8537\n",
            "Epoch 110/300\n",
            "26/26 [==============================] - 0s 2ms/step - loss: 0.3827 - accuracy: 0.8329\n",
            "Epoch 111/300\n",
            "26/26 [==============================] - 0s 2ms/step - loss: 0.3849 - accuracy: 0.8268\n",
            "Epoch 112/300\n",
            "26/26 [==============================] - 0s 3ms/step - loss: 0.3926 - accuracy: 0.8354\n",
            "Epoch 113/300\n",
            "26/26 [==============================] - 0s 2ms/step - loss: 0.3790 - accuracy: 0.8415\n",
            "Epoch 114/300\n",
            "26/26 [==============================] - 0s 2ms/step - loss: 0.3728 - accuracy: 0.8415\n",
            "Epoch 115/300\n",
            "26/26 [==============================] - 0s 2ms/step - loss: 0.3710 - accuracy: 0.8402\n",
            "Epoch 116/300\n",
            "26/26 [==============================] - 0s 2ms/step - loss: 0.3671 - accuracy: 0.8524\n",
            "Epoch 117/300\n",
            "26/26 [==============================] - 0s 2ms/step - loss: 0.3806 - accuracy: 0.8390\n",
            "Epoch 118/300\n",
            "26/26 [==============================] - 0s 2ms/step - loss: 0.3705 - accuracy: 0.8341\n",
            "Epoch 119/300\n",
            "26/26 [==============================] - 0s 2ms/step - loss: 0.3674 - accuracy: 0.8573\n",
            "Epoch 120/300\n",
            "26/26 [==============================] - 0s 2ms/step - loss: 0.3741 - accuracy: 0.8268\n",
            "Epoch 121/300\n",
            "26/26 [==============================] - 0s 2ms/step - loss: 0.3821 - accuracy: 0.8341\n",
            "Epoch 122/300\n",
            "26/26 [==============================] - 0s 2ms/step - loss: 0.3769 - accuracy: 0.8280\n",
            "Epoch 123/300\n",
            "26/26 [==============================] - 0s 2ms/step - loss: 0.3796 - accuracy: 0.8427\n",
            "Epoch 124/300\n",
            "26/26 [==============================] - 0s 2ms/step - loss: 0.3715 - accuracy: 0.8537\n",
            "Epoch 125/300\n",
            "26/26 [==============================] - 0s 2ms/step - loss: 0.3831 - accuracy: 0.8317\n",
            "Epoch 126/300\n",
            "26/26 [==============================] - 0s 2ms/step - loss: 0.3819 - accuracy: 0.8305\n",
            "Epoch 127/300\n",
            "26/26 [==============================] - 0s 2ms/step - loss: 0.3947 - accuracy: 0.8195\n",
            "Epoch 128/300\n",
            "26/26 [==============================] - 0s 2ms/step - loss: 0.3743 - accuracy: 0.8439\n",
            "Epoch 129/300\n",
            "26/26 [==============================] - 0s 2ms/step - loss: 0.3648 - accuracy: 0.8512\n",
            "Epoch 130/300\n",
            "26/26 [==============================] - 0s 2ms/step - loss: 0.3725 - accuracy: 0.8427\n",
            "Epoch 131/300\n",
            "26/26 [==============================] - 0s 2ms/step - loss: 0.3961 - accuracy: 0.8280\n",
            "Epoch 132/300\n",
            "26/26 [==============================] - 0s 2ms/step - loss: 0.3767 - accuracy: 0.8329\n",
            "Epoch 133/300\n",
            "26/26 [==============================] - 0s 2ms/step - loss: 0.3695 - accuracy: 0.8488\n",
            "Epoch 134/300\n",
            "26/26 [==============================] - 0s 2ms/step - loss: 0.3849 - accuracy: 0.8378\n",
            "Epoch 135/300\n",
            "26/26 [==============================] - 0s 2ms/step - loss: 0.3668 - accuracy: 0.8524\n",
            "Epoch 136/300\n",
            "26/26 [==============================] - 0s 2ms/step - loss: 0.3625 - accuracy: 0.8427\n",
            "Epoch 137/300\n",
            "26/26 [==============================] - 0s 2ms/step - loss: 0.3754 - accuracy: 0.8317\n",
            "Epoch 138/300\n",
            "26/26 [==============================] - 0s 2ms/step - loss: 0.3669 - accuracy: 0.8537\n",
            "Epoch 139/300\n",
            "26/26 [==============================] - 0s 2ms/step - loss: 0.3638 - accuracy: 0.8488\n",
            "Epoch 140/300\n",
            "26/26 [==============================] - 0s 2ms/step - loss: 0.3722 - accuracy: 0.8427\n",
            "Epoch 141/300\n",
            "26/26 [==============================] - 0s 2ms/step - loss: 0.3722 - accuracy: 0.8354\n",
            "Epoch 142/300\n",
            "26/26 [==============================] - 0s 2ms/step - loss: 0.3670 - accuracy: 0.8402\n",
            "Epoch 143/300\n",
            "26/26 [==============================] - 0s 2ms/step - loss: 0.3651 - accuracy: 0.8585\n",
            "Epoch 144/300\n",
            "26/26 [==============================] - 0s 2ms/step - loss: 0.3800 - accuracy: 0.8415\n",
            "Epoch 145/300\n",
            "26/26 [==============================] - 0s 2ms/step - loss: 0.3913 - accuracy: 0.8232\n",
            "Epoch 146/300\n",
            "26/26 [==============================] - 0s 2ms/step - loss: 0.3762 - accuracy: 0.8305\n",
            "Epoch 147/300\n",
            "26/26 [==============================] - 0s 2ms/step - loss: 0.3671 - accuracy: 0.8524\n",
            "Epoch 148/300\n",
            "26/26 [==============================] - 0s 2ms/step - loss: 0.3684 - accuracy: 0.8500\n",
            "Epoch 149/300\n",
            "26/26 [==============================] - 0s 2ms/step - loss: 0.3876 - accuracy: 0.8232\n",
            "Epoch 150/300\n",
            "26/26 [==============================] - 0s 2ms/step - loss: 0.3792 - accuracy: 0.8390\n",
            "Epoch 151/300\n",
            "26/26 [==============================] - 0s 2ms/step - loss: 0.3686 - accuracy: 0.8524\n",
            "Epoch 152/300\n",
            "26/26 [==============================] - 0s 2ms/step - loss: 0.3801 - accuracy: 0.8402\n",
            "Epoch 153/300\n",
            "26/26 [==============================] - 0s 2ms/step - loss: 0.3700 - accuracy: 0.8451\n",
            "Epoch 154/300\n",
            "26/26 [==============================] - 0s 2ms/step - loss: 0.3702 - accuracy: 0.8415\n",
            "Epoch 155/300\n",
            "26/26 [==============================] - 0s 2ms/step - loss: 0.3778 - accuracy: 0.8280\n",
            "Epoch 156/300\n",
            "26/26 [==============================] - 0s 2ms/step - loss: 0.3723 - accuracy: 0.8402\n",
            "Epoch 157/300\n",
            "26/26 [==============================] - 0s 2ms/step - loss: 0.3776 - accuracy: 0.8378\n",
            "Epoch 158/300\n",
            "26/26 [==============================] - 0s 2ms/step - loss: 0.3880 - accuracy: 0.8232\n",
            "Epoch 159/300\n",
            "26/26 [==============================] - 0s 3ms/step - loss: 0.3848 - accuracy: 0.8354\n",
            "Epoch 160/300\n",
            "26/26 [==============================] - 0s 2ms/step - loss: 0.3631 - accuracy: 0.8561\n",
            "Epoch 161/300\n",
            "26/26 [==============================] - 0s 2ms/step - loss: 0.3663 - accuracy: 0.8561\n",
            "Epoch 162/300\n",
            "26/26 [==============================] - 0s 2ms/step - loss: 0.3749 - accuracy: 0.8390\n",
            "Epoch 163/300\n",
            "26/26 [==============================] - 0s 2ms/step - loss: 0.3688 - accuracy: 0.8439\n",
            "Epoch 164/300\n",
            "26/26 [==============================] - 0s 2ms/step - loss: 0.3659 - accuracy: 0.8415\n",
            "Epoch 165/300\n",
            "26/26 [==============================] - 0s 2ms/step - loss: 0.3737 - accuracy: 0.8378\n",
            "Epoch 166/300\n",
            "26/26 [==============================] - 0s 2ms/step - loss: 0.3783 - accuracy: 0.8317\n",
            "Epoch 167/300\n",
            "26/26 [==============================] - 0s 2ms/step - loss: 0.3734 - accuracy: 0.8390\n",
            "Epoch 168/300\n",
            "26/26 [==============================] - 0s 2ms/step - loss: 0.3708 - accuracy: 0.8561\n",
            "Epoch 169/300\n",
            "26/26 [==============================] - 0s 2ms/step - loss: 0.3648 - accuracy: 0.8524\n",
            "Epoch 170/300\n",
            "26/26 [==============================] - 0s 2ms/step - loss: 0.3681 - accuracy: 0.8488\n",
            "Epoch 171/300\n",
            "26/26 [==============================] - 0s 2ms/step - loss: 0.3736 - accuracy: 0.8341\n",
            "Epoch 172/300\n",
            "26/26 [==============================] - 0s 2ms/step - loss: 0.3733 - accuracy: 0.8451\n",
            "Epoch 173/300\n",
            "26/26 [==============================] - 0s 2ms/step - loss: 0.3685 - accuracy: 0.8390\n",
            "Epoch 174/300\n",
            "26/26 [==============================] - 0s 2ms/step - loss: 0.3822 - accuracy: 0.8183\n",
            "Epoch 175/300\n",
            "26/26 [==============================] - 0s 2ms/step - loss: 0.3802 - accuracy: 0.8402\n",
            "Epoch 176/300\n",
            "26/26 [==============================] - 0s 2ms/step - loss: 0.3690 - accuracy: 0.8427\n",
            "Epoch 177/300\n",
            "26/26 [==============================] - 0s 2ms/step - loss: 0.3805 - accuracy: 0.8378\n",
            "Epoch 178/300\n",
            "26/26 [==============================] - 0s 2ms/step - loss: 0.3755 - accuracy: 0.8329\n",
            "Epoch 179/300\n",
            "26/26 [==============================] - 0s 2ms/step - loss: 0.3646 - accuracy: 0.8488\n",
            "Epoch 180/300\n",
            "26/26 [==============================] - 0s 2ms/step - loss: 0.3697 - accuracy: 0.8463\n",
            "Epoch 181/300\n",
            "26/26 [==============================] - 0s 2ms/step - loss: 0.3728 - accuracy: 0.8390\n",
            "Epoch 182/300\n",
            "26/26 [==============================] - 0s 2ms/step - loss: 0.3709 - accuracy: 0.8439\n",
            "Epoch 183/300\n",
            "26/26 [==============================] - 0s 2ms/step - loss: 0.3674 - accuracy: 0.8451\n",
            "Epoch 184/300\n",
            "26/26 [==============================] - 0s 2ms/step - loss: 0.3643 - accuracy: 0.8415\n",
            "Epoch 185/300\n",
            "26/26 [==============================] - 0s 3ms/step - loss: 0.3724 - accuracy: 0.8451\n",
            "Epoch 186/300\n",
            "26/26 [==============================] - 0s 2ms/step - loss: 0.3990 - accuracy: 0.8122\n",
            "Epoch 187/300\n",
            "26/26 [==============================] - 0s 2ms/step - loss: 0.3781 - accuracy: 0.8244\n",
            "Epoch 188/300\n",
            "26/26 [==============================] - 0s 2ms/step - loss: 0.3877 - accuracy: 0.8256\n",
            "Epoch 189/300\n",
            "26/26 [==============================] - 0s 2ms/step - loss: 0.3802 - accuracy: 0.8524\n",
            "Epoch 190/300\n",
            "26/26 [==============================] - 0s 2ms/step - loss: 0.3804 - accuracy: 0.8317\n",
            "Epoch 191/300\n",
            "26/26 [==============================] - 0s 2ms/step - loss: 0.3684 - accuracy: 0.8415\n",
            "Epoch 192/300\n",
            "26/26 [==============================] - 0s 2ms/step - loss: 0.3742 - accuracy: 0.8427\n",
            "Epoch 193/300\n",
            "26/26 [==============================] - 0s 2ms/step - loss: 0.3688 - accuracy: 0.8488\n",
            "Epoch 194/300\n",
            "26/26 [==============================] - 0s 2ms/step - loss: 0.3710 - accuracy: 0.8537\n",
            "Epoch 195/300\n",
            "26/26 [==============================] - 0s 2ms/step - loss: 0.3716 - accuracy: 0.8402\n",
            "Epoch 196/300\n",
            "26/26 [==============================] - 0s 2ms/step - loss: 0.3783 - accuracy: 0.8305\n",
            "Epoch 197/300\n",
            "26/26 [==============================] - 0s 2ms/step - loss: 0.3919 - accuracy: 0.8232\n",
            "Epoch 198/300\n",
            "26/26 [==============================] - 0s 2ms/step - loss: 0.3799 - accuracy: 0.8268\n",
            "Epoch 199/300\n",
            "26/26 [==============================] - 0s 2ms/step - loss: 0.3750 - accuracy: 0.8354\n",
            "Epoch 200/300\n",
            "26/26 [==============================] - 0s 2ms/step - loss: 0.3670 - accuracy: 0.8476\n",
            "Epoch 201/300\n",
            "26/26 [==============================] - 0s 2ms/step - loss: 0.3650 - accuracy: 0.8415\n",
            "Epoch 202/300\n",
            "26/26 [==============================] - 0s 2ms/step - loss: 0.3665 - accuracy: 0.8415\n",
            "Epoch 203/300\n",
            "26/26 [==============================] - 0s 2ms/step - loss: 0.3663 - accuracy: 0.8500\n",
            "Epoch 204/300\n",
            "26/26 [==============================] - 0s 2ms/step - loss: 0.3893 - accuracy: 0.8280\n",
            "Epoch 205/300\n",
            "26/26 [==============================] - 0s 2ms/step - loss: 0.3759 - accuracy: 0.8439\n",
            "Epoch 206/300\n",
            "26/26 [==============================] - 0s 2ms/step - loss: 0.3976 - accuracy: 0.8244\n",
            "Epoch 207/300\n",
            "26/26 [==============================] - 0s 2ms/step - loss: 0.3764 - accuracy: 0.8280\n",
            "Epoch 208/300\n",
            "26/26 [==============================] - 0s 2ms/step - loss: 0.3814 - accuracy: 0.8329\n",
            "Epoch 209/300\n",
            "26/26 [==============================] - 0s 3ms/step - loss: 0.3970 - accuracy: 0.8256\n",
            "Epoch 210/300\n",
            "26/26 [==============================] - 0s 2ms/step - loss: 0.3655 - accuracy: 0.8537\n",
            "Epoch 211/300\n",
            "26/26 [==============================] - 0s 2ms/step - loss: 0.3637 - accuracy: 0.8573\n",
            "Epoch 212/300\n",
            "26/26 [==============================] - 0s 2ms/step - loss: 0.3709 - accuracy: 0.8402\n",
            "Epoch 213/300\n",
            "26/26 [==============================] - 0s 2ms/step - loss: 0.3703 - accuracy: 0.8439\n",
            "Epoch 214/300\n",
            "26/26 [==============================] - 0s 2ms/step - loss: 0.3825 - accuracy: 0.8329\n",
            "Epoch 215/300\n",
            "26/26 [==============================] - 0s 2ms/step - loss: 0.3679 - accuracy: 0.8512\n",
            "Epoch 216/300\n",
            "26/26 [==============================] - 0s 2ms/step - loss: 0.3670 - accuracy: 0.8463\n",
            "Epoch 217/300\n",
            "26/26 [==============================] - 0s 2ms/step - loss: 0.3726 - accuracy: 0.8439\n",
            "Epoch 218/300\n",
            "26/26 [==============================] - 0s 2ms/step - loss: 0.3705 - accuracy: 0.8463\n",
            "Epoch 219/300\n",
            "26/26 [==============================] - 0s 3ms/step - loss: 0.3670 - accuracy: 0.8537\n",
            "Epoch 220/300\n",
            "26/26 [==============================] - 0s 2ms/step - loss: 0.3672 - accuracy: 0.8378\n",
            "Epoch 221/300\n",
            "26/26 [==============================] - 0s 2ms/step - loss: 0.3694 - accuracy: 0.8402\n",
            "Epoch 222/300\n",
            "26/26 [==============================] - 0s 2ms/step - loss: 0.3659 - accuracy: 0.8463\n",
            "Epoch 223/300\n",
            "26/26 [==============================] - 0s 2ms/step - loss: 0.3653 - accuracy: 0.8463\n",
            "Epoch 224/300\n",
            "26/26 [==============================] - 0s 2ms/step - loss: 0.3705 - accuracy: 0.8451\n",
            "Epoch 225/300\n",
            "26/26 [==============================] - 0s 2ms/step - loss: 0.3665 - accuracy: 0.8524\n",
            "Epoch 226/300\n",
            "26/26 [==============================] - 0s 2ms/step - loss: 0.3687 - accuracy: 0.8402\n",
            "Epoch 227/300\n",
            "26/26 [==============================] - 0s 2ms/step - loss: 0.3691 - accuracy: 0.8427\n",
            "Epoch 228/300\n",
            "26/26 [==============================] - 0s 2ms/step - loss: 0.3625 - accuracy: 0.8512\n",
            "Epoch 229/300\n",
            "26/26 [==============================] - 0s 2ms/step - loss: 0.3643 - accuracy: 0.8500\n",
            "Epoch 230/300\n",
            "26/26 [==============================] - 0s 2ms/step - loss: 0.3604 - accuracy: 0.8500\n",
            "Epoch 231/300\n",
            "26/26 [==============================] - 0s 2ms/step - loss: 0.3741 - accuracy: 0.8378\n",
            "Epoch 232/300\n",
            "26/26 [==============================] - 0s 2ms/step - loss: 0.3819 - accuracy: 0.8256\n",
            "Epoch 233/300\n",
            "26/26 [==============================] - 0s 2ms/step - loss: 0.3704 - accuracy: 0.8463\n",
            "Epoch 234/300\n",
            "26/26 [==============================] - 0s 2ms/step - loss: 0.3638 - accuracy: 0.8488\n",
            "Epoch 235/300\n",
            "26/26 [==============================] - 0s 3ms/step - loss: 0.3976 - accuracy: 0.8378\n",
            "Epoch 236/300\n",
            "26/26 [==============================] - 0s 4ms/step - loss: 0.3777 - accuracy: 0.8524\n",
            "Epoch 237/300\n",
            "26/26 [==============================] - 0s 3ms/step - loss: 0.3648 - accuracy: 0.8488\n",
            "Epoch 238/300\n",
            "26/26 [==============================] - 0s 3ms/step - loss: 0.3651 - accuracy: 0.8451\n",
            "Epoch 239/300\n",
            "26/26 [==============================] - 0s 4ms/step - loss: 0.3699 - accuracy: 0.8354\n",
            "Epoch 240/300\n",
            "26/26 [==============================] - 0s 3ms/step - loss: 0.3706 - accuracy: 0.8427\n",
            "Epoch 241/300\n",
            "26/26 [==============================] - 0s 3ms/step - loss: 0.3736 - accuracy: 0.8439\n",
            "Epoch 242/300\n",
            "26/26 [==============================] - 0s 3ms/step - loss: 0.3705 - accuracy: 0.8439\n",
            "Epoch 243/300\n",
            "26/26 [==============================] - 0s 3ms/step - loss: 0.3650 - accuracy: 0.8598\n",
            "Epoch 244/300\n",
            "26/26 [==============================] - 0s 3ms/step - loss: 0.3681 - accuracy: 0.8500\n",
            "Epoch 245/300\n",
            "26/26 [==============================] - 0s 3ms/step - loss: 0.3638 - accuracy: 0.8512\n",
            "Epoch 246/300\n",
            "26/26 [==============================] - 0s 3ms/step - loss: 0.3851 - accuracy: 0.8378\n",
            "Epoch 247/300\n",
            "26/26 [==============================] - 0s 3ms/step - loss: 0.3798 - accuracy: 0.8402\n",
            "Epoch 248/300\n",
            "26/26 [==============================] - 0s 3ms/step - loss: 0.3677 - accuracy: 0.8378\n",
            "Epoch 249/300\n",
            "26/26 [==============================] - 0s 3ms/step - loss: 0.3700 - accuracy: 0.8500\n",
            "Epoch 250/300\n",
            "26/26 [==============================] - 0s 3ms/step - loss: 0.3630 - accuracy: 0.8561\n",
            "Epoch 251/300\n",
            "26/26 [==============================] - 0s 3ms/step - loss: 0.3764 - accuracy: 0.8427\n",
            "Epoch 252/300\n",
            "26/26 [==============================] - 0s 3ms/step - loss: 0.3781 - accuracy: 0.8488\n",
            "Epoch 253/300\n",
            "26/26 [==============================] - 0s 3ms/step - loss: 0.3714 - accuracy: 0.8427\n",
            "Epoch 254/300\n",
            "26/26 [==============================] - 0s 3ms/step - loss: 0.3827 - accuracy: 0.8354\n",
            "Epoch 255/300\n",
            "26/26 [==============================] - 0s 3ms/step - loss: 0.3693 - accuracy: 0.8500\n",
            "Epoch 256/300\n",
            "26/26 [==============================] - 0s 3ms/step - loss: 0.3989 - accuracy: 0.8232\n",
            "Epoch 257/300\n",
            "26/26 [==============================] - 0s 3ms/step - loss: 0.3709 - accuracy: 0.8390\n",
            "Epoch 258/300\n",
            "26/26 [==============================] - 0s 3ms/step - loss: 0.3689 - accuracy: 0.8390\n",
            "Epoch 259/300\n",
            "26/26 [==============================] - 0s 3ms/step - loss: 0.3862 - accuracy: 0.8098\n",
            "Epoch 260/300\n",
            "26/26 [==============================] - 0s 3ms/step - loss: 0.3619 - accuracy: 0.8561\n",
            "Epoch 261/300\n",
            "26/26 [==============================] - 0s 3ms/step - loss: 0.3657 - accuracy: 0.8415\n",
            "Epoch 262/300\n",
            "26/26 [==============================] - 0s 3ms/step - loss: 0.3697 - accuracy: 0.8378\n",
            "Epoch 263/300\n",
            "26/26 [==============================] - 0s 3ms/step - loss: 0.3886 - accuracy: 0.8232\n",
            "Epoch 264/300\n",
            "26/26 [==============================] - 0s 3ms/step - loss: 0.4039 - accuracy: 0.8171\n",
            "Epoch 265/300\n",
            "26/26 [==============================] - 0s 3ms/step - loss: 0.3727 - accuracy: 0.8354\n",
            "Epoch 266/300\n",
            "26/26 [==============================] - 0s 3ms/step - loss: 0.3645 - accuracy: 0.8549\n",
            "Epoch 267/300\n",
            "26/26 [==============================] - 0s 3ms/step - loss: 0.3793 - accuracy: 0.8329\n",
            "Epoch 268/300\n",
            "26/26 [==============================] - 0s 3ms/step - loss: 0.3776 - accuracy: 0.8451\n",
            "Epoch 269/300\n",
            "26/26 [==============================] - 0s 3ms/step - loss: 0.3689 - accuracy: 0.8390\n",
            "Epoch 270/300\n",
            "26/26 [==============================] - 0s 3ms/step - loss: 0.3708 - accuracy: 0.8524\n",
            "Epoch 271/300\n",
            "26/26 [==============================] - 0s 3ms/step - loss: 0.3675 - accuracy: 0.8476\n",
            "Epoch 272/300\n",
            "26/26 [==============================] - 0s 3ms/step - loss: 0.3693 - accuracy: 0.8341\n",
            "Epoch 273/300\n",
            "26/26 [==============================] - 0s 3ms/step - loss: 0.3653 - accuracy: 0.8476\n",
            "Epoch 274/300\n",
            "26/26 [==============================] - 0s 3ms/step - loss: 0.3712 - accuracy: 0.8451\n",
            "Epoch 275/300\n",
            "26/26 [==============================] - 0s 3ms/step - loss: 0.3678 - accuracy: 0.8585\n",
            "Epoch 276/300\n",
            "26/26 [==============================] - 0s 3ms/step - loss: 0.3656 - accuracy: 0.8402\n",
            "Epoch 277/300\n",
            "26/26 [==============================] - 0s 3ms/step - loss: 0.3667 - accuracy: 0.8561\n",
            "Epoch 278/300\n",
            "26/26 [==============================] - 0s 3ms/step - loss: 0.3676 - accuracy: 0.8488\n",
            "Epoch 279/300\n",
            "26/26 [==============================] - 0s 3ms/step - loss: 0.3677 - accuracy: 0.8415\n",
            "Epoch 280/300\n",
            "26/26 [==============================] - 0s 3ms/step - loss: 0.3672 - accuracy: 0.8463\n",
            "Epoch 281/300\n",
            "26/26 [==============================] - 0s 3ms/step - loss: 0.3625 - accuracy: 0.8561\n",
            "Epoch 282/300\n",
            "26/26 [==============================] - 0s 3ms/step - loss: 0.3758 - accuracy: 0.8415\n",
            "Epoch 283/300\n",
            "26/26 [==============================] - 0s 2ms/step - loss: 0.3726 - accuracy: 0.8427\n",
            "Epoch 284/300\n",
            "26/26 [==============================] - 0s 2ms/step - loss: 0.3738 - accuracy: 0.8329\n",
            "Epoch 285/300\n",
            "26/26 [==============================] - 0s 2ms/step - loss: 0.3747 - accuracy: 0.8366\n",
            "Epoch 286/300\n",
            "26/26 [==============================] - 0s 2ms/step - loss: 0.3733 - accuracy: 0.8268\n",
            "Epoch 287/300\n",
            "26/26 [==============================] - 0s 2ms/step - loss: 0.3818 - accuracy: 0.8402\n",
            "Epoch 288/300\n",
            "26/26 [==============================] - 0s 2ms/step - loss: 0.3695 - accuracy: 0.8378\n",
            "Epoch 289/300\n",
            "26/26 [==============================] - 0s 2ms/step - loss: 0.3618 - accuracy: 0.8463\n",
            "Epoch 290/300\n",
            "26/26 [==============================] - 0s 3ms/step - loss: 0.3652 - accuracy: 0.8488\n",
            "Epoch 291/300\n",
            "26/26 [==============================] - 0s 3ms/step - loss: 0.3620 - accuracy: 0.8463\n",
            "Epoch 292/300\n",
            "26/26 [==============================] - 0s 2ms/step - loss: 0.3632 - accuracy: 0.8646\n",
            "Epoch 293/300\n",
            "26/26 [==============================] - 0s 2ms/step - loss: 0.3640 - accuracy: 0.8451\n",
            "Epoch 294/300\n",
            "26/26 [==============================] - 0s 2ms/step - loss: 0.3669 - accuracy: 0.8402\n",
            "Epoch 295/300\n",
            "26/26 [==============================] - 0s 2ms/step - loss: 0.3860 - accuracy: 0.8220\n",
            "Epoch 296/300\n",
            "26/26 [==============================] - 0s 2ms/step - loss: 0.3765 - accuracy: 0.8439\n",
            "Epoch 297/300\n",
            "26/26 [==============================] - 0s 2ms/step - loss: 0.3678 - accuracy: 0.8415\n",
            "Epoch 298/300\n",
            "26/26 [==============================] - 0s 2ms/step - loss: 0.3664 - accuracy: 0.8451\n",
            "Epoch 299/300\n",
            "26/26 [==============================] - 0s 2ms/step - loss: 0.3699 - accuracy: 0.8439\n",
            "Epoch 300/300\n",
            "26/26 [==============================] - 0s 3ms/step - loss: 0.3658 - accuracy: 0.8439\n"
          ]
        },
        {
          "data": {
            "text/plain": [
              "<keras.src.callbacks.History at 0x78b1129eb700>"
            ]
          },
          "execution_count": 51,
          "metadata": {},
          "output_type": "execute_result"
        }
      ],
      "source": [
        "model.fit(X_train,Y_train,epochs=300)"
      ]
    },
    {
      "cell_type": "code",
      "execution_count": null,
      "metadata": {
        "colab": {
          "base_uri": "https://localhost:8080/"
        },
        "id": "H64YD6ji_stj",
        "outputId": "af6933de-b6db-434f-acfc-27e7e19273da"
      },
      "outputs": [
        {
          "name": "stdout",
          "output_type": "stream",
          "text": [
            "7/7 [==============================] - 0s 2ms/step\n"
          ]
        }
      ],
      "source": [
        "Y_pred_nn = model.predict(X_test)"
      ]
    },
    {
      "cell_type": "code",
      "execution_count": null,
      "metadata": {
        "colab": {
          "base_uri": "https://localhost:8080/"
        },
        "id": "8tA5ixvB_swD",
        "outputId": "8a513e73-6a61-4ab6-f41f-ce5aba96f77d"
      },
      "outputs": [
        {
          "data": {
            "text/plain": [
              "(205, 1)"
            ]
          },
          "execution_count": 53,
          "metadata": {},
          "output_type": "execute_result"
        }
      ],
      "source": [
        "Y_pred_nn.shape"
      ]
    },
    {
      "cell_type": "code",
      "execution_count": null,
      "metadata": {
        "colab": {
          "base_uri": "https://localhost:8080/"
        },
        "id": "CKQTBF9eFPsu",
        "outputId": "25c094f5-bc72-4c8d-dfcd-2dc83639c9a9"
      },
      "outputs": [
        {
          "name": "stdout",
          "output_type": "stream",
          "text": [
            "The accuracy score achieved using Neural Network is: 86.34 %\n"
          ]
        }
      ],
      "source": [
        "#Y_pred_nn = model.predict(X_test)\n",
        "#Y_pred_nn.shape  # Output (205, 1)\n",
        "\n",
        "\n",
        "\n",
        "score_nn = round(accuracy_score(Y_pred_nn, Y_test) * 100, 2)\n",
        "\n",
        "print(\"The accuracy score achieved using Neural Network is: \" + str(score_nn) + \" %\")\n"
      ]
    },
    {
      "cell_type": "code",
      "execution_count": null,
      "metadata": {
        "colab": {
          "base_uri": "https://localhost:8080/"
        },
        "id": "bQfxBuAB_s0n",
        "outputId": "612ffaef-d467-4ce1-a1bf-e08614599e66"
      },
      "outputs": [
        {
          "name": "stdout",
          "output_type": "stream",
          "text": [
            "The accuracy score achieved using Logistic Regression is: 86.34 %\n",
            "The accuracy score achieved using Naive Bayes is: 85.37 %\n",
            "The accuracy score achieved using Support Vector Machine is: 83.9 %\n",
            "The accuracy score achieved using K-Nearest Neighbors is: 72.2 %\n",
            "The accuracy score achieved using Decision Tree is: 81.97 %\n",
            "The accuracy score achieved using Random Forest is: 90.16 %\n",
            "The accuracy score achieved using XGBoost is: 78.69 %\n",
            "The accuracy score achieved using Neural Network is: 86.34 %\n"
          ]
        }
      ],
      "source": [
        "scores = [score_lr,score_nb,score_svm,score_knn,score_dt,score_rf,score_xgb,score_nn]\n",
        "algorithms = [\"Logistic Regression\",\"Naive Bayes\",\"Support Vector Machine\",\"K-Nearest Neighbors\",\"Decision Tree\",\"Random Forest\",\"XGBoost\",\"Neural Network\"]\n",
        "\n",
        "for i in range(len(algorithms)):\n",
        "    print(\"The accuracy score achieved using \"+algorithms[i]+\" is: \"+str(scores[i])+\" %\")"
      ]
    },
    {
      "cell_type": "code",
      "execution_count": null,
      "metadata": {
        "colab": {
          "base_uri": "https://localhost:8080/",
          "height": 616
        },
        "id": "ryrQ4FyZ_s28",
        "outputId": "ea49119b-7356-4f0f-94a3-7170eaf9603e"
      },
      "outputs": [
        {
          "data": {
            "text/plain": [
              "<Axes: xlabel='Algorithms', ylabel='Accuracy score'>"
            ]
          },
          "execution_count": 83,
          "metadata": {},
          "output_type": "execute_result"
        },
        {
          "data": {
            "image/png": "[encoded data removed]",
            "text/plain": [
              "<Figure size 1500x800 with 1 Axes>"
            ]
          },
          "metadata": {},
          "output_type": "display_data"
        }
      ],
      "source": [
        "sns.set(rc={'figure.figsize':(15,8)})\n",
        "plt.xlabel(\"Algorithms\")\n",
        "plt.ylabel(\"Accuracy score\")\n",
        "\n",
        "sns.barplot(x=algorithms,y=scores)"
      ]
    },
    {
      "cell_type": "code",
      "execution_count": null,
      "metadata": {
        "colab": {
          "base_uri": "https://localhost:8080/"
        },
        "id": "nFRQeiEo_s5T",
        "outputId": "ff0f197a-a483-4352-a93b-3018a8b4923d"
      },
      "outputs": [
        {
          "data": {
            "text/plain": [
              "array([1, 0])"
            ]
          },
          "execution_count": 84,
          "metadata": {},
          "output_type": "execute_result"
        }
      ],
      "source": [
        "dataset[\"sex\"].unique()"
      ]
    },
    {
      "cell_type": "code",
      "execution_count": null,
      "metadata": {
        "colab": {
          "base_uri": "https://localhost:8080/",
          "height": 614
        },
        "id": "8EgvrzT4_s7l",
        "outputId": "a3497a8f-b951-4c4e-dbb5-80b5350c9926"
      },
      "outputs": [
        {
          "data": {
            "text/plain": [
              "<Axes: xlabel='sex', ylabel='target'>"
            ]
          },
          "execution_count": 85,
          "metadata": {},
          "output_type": "execute_result"
        },
        {
          "data": {
            "image/png": "[encoded data removed]",
            "text/plain": [
              "<Figure size 1500x800 with 1 Axes>"
            ]
          },
          "metadata": {},
          "output_type": "display_data"
        }
      ],
      "source": [
        "sns.barplot(x=dataset[\"sex\"],y=y)"
      ]
    },
    {
      "cell_type": "code",
      "execution_count": null,
      "metadata": {
        "colab": {
          "base_uri": "https://localhost:8080/"
        },
        "id": "j-5NzqFg_s9f",
        "outputId": "10e0f604-61ad-442f-d116-aca2b1b401f9"
      },
      "outputs": [
        {
          "data": {
            "text/plain": [
              "array([0, 1, 2, 3])"
            ]
          },
          "execution_count": 86,
          "metadata": {},
          "output_type": "execute_result"
        }
      ],
      "source": [
        "\n",
        "dataset[\"cp\"].unique()"
      ]
    },
    {
      "cell_type": "code",
      "execution_count": null,
      "metadata": {
        "colab": {
          "base_uri": "https://localhost:8080/",
          "height": 614
        },
        "id": "oC-hHH6A_s_y",
        "outputId": "5ac1d16f-1b66-41f5-bded-f1ad305bbe45"
      },
      "outputs": [
        {
          "data": {
            "text/plain": [
              "<Axes: xlabel='cp', ylabel='target'>"
            ]
          },
          "execution_count": 87,
          "metadata": {},
          "output_type": "execute_result"
        },
        {
          "data": {
            "image/png": "[encoded data removed]",
            "text/plain": [
              "<Figure size 1500x800 with 1 Axes>"
            ]
          },
          "metadata": {},
          "output_type": "display_data"
        }
      ],
      "source": [
        "sns.barplot(x=dataset[\"cp\"],y=y)"
      ]
    },
    {
      "cell_type": "code",
      "execution_count": null,
      "metadata": {
        "colab": {
          "base_uri": "https://localhost:8080/"
        },
        "id": "GZfunS8m_tBs",
        "outputId": "a303ce0f-d8c6-4462-e185-a2016ddab4c4"
      },
      "outputs": [
        {
          "data": {
            "text/plain": [
              "count    1025.000000\n",
              "mean        0.149268\n",
              "std         0.356527\n",
              "min         0.000000\n",
              "25%         0.000000\n",
              "50%         0.000000\n",
              "75%         0.000000\n",
              "max         1.000000\n",
              "Name: fbs, dtype: float64"
            ]
          },
          "execution_count": 88,
          "metadata": {},
          "output_type": "execute_result"
        }
      ],
      "source": [
        "dataset[\"fbs\"].describe()"
      ]
    },
    {
      "cell_type": "code",
      "execution_count": null,
      "metadata": {
        "colab": {
          "base_uri": "https://localhost:8080/"
        },
        "id": "VzqdRzxr_tO-",
        "outputId": "d9878660-c3e4-4471-feeb-1a7592331b5f"
      },
      "outputs": [
        {
          "data": {
            "text/plain": [
              "array([0, 1])"
            ]
          },
          "execution_count": 89,
          "metadata": {},
          "output_type": "execute_result"
        }
      ],
      "source": [
        "dataset[\"fbs\"].unique()"
      ]
    },
    {
      "cell_type": "code",
      "execution_count": null,
      "metadata": {
        "colab": {
          "base_uri": "https://localhost:8080/",
          "height": 614
        },
        "id": "A6b_qY8e_tY5",
        "outputId": "f29f6b7e-07f4-40e0-c696-f49fde0f72b5"
      },
      "outputs": [
        {
          "data": {
            "text/plain": [
              "<Axes: xlabel='fbs', ylabel='target'>"
            ]
          },
          "execution_count": 90,
          "metadata": {},
          "output_type": "execute_result"
        },
        {
          "data": {
            "image/png": "[encoded data removed]",
            "text/plain": [
              "<Figure size 1500x800 with 1 Axes>"
            ]
          },
          "metadata": {},
          "output_type": "display_data"
        }
      ],
      "source": [
        "sns.barplot(x=dataset[\"fbs\"],y=y)"
      ]
    },
    {
      "cell_type": "code",
      "execution_count": null,
      "metadata": {
        "colab": {
          "base_uri": "https://localhost:8080/"
        },
        "id": "gLoDBl3bBQXi",
        "outputId": "a9a86f37-2f72-4d9e-d823-e849f10c5533"
      },
      "outputs": [
        {
          "data": {
            "text/plain": [
              "array([0, 1])"
            ]
          },
          "execution_count": 91,
          "metadata": {},
          "output_type": "execute_result"
        }
      ],
      "source": [
        "dataset[\"exang\"].unique()"
      ]
    },
    {
      "cell_type": "code",
      "execution_count": null,
      "metadata": {
        "colab": {
          "base_uri": "https://localhost:8080/",
          "height": 614
        },
        "id": "67vtOvCFBQZ5",
        "outputId": "23ee8f34-c49e-45d5-a1d1-c51f53746e1b"
      },
      "outputs": [
        {
          "data": {
            "text/plain": [
              "<Axes: xlabel='exang', ylabel='target'>"
            ]
          },
          "execution_count": 92,
          "metadata": {},
          "output_type": "execute_result"
        },
        {
          "data": {
            "image/png": "[encoded data removed]",
            "text/plain": [
              "<Figure size 1500x800 with 1 Axes>"
            ]
          },
          "metadata": {},
          "output_type": "display_data"
        }
      ],
      "source": [
        "sns.barplot(x=dataset[\"exang\"],y=y)"
      ]
    },
    {
      "cell_type": "code",
      "execution_count": null,
      "metadata": {
        "colab": {
          "base_uri": "https://localhost:8080/"
        },
        "id": "Kqy4PsneBQcf",
        "outputId": "566885a9-da87-482a-d1cd-9a7424da5e3c"
      },
      "outputs": [
        {
          "data": {
            "text/plain": [
              "array([2, 0, 1])"
            ]
          },
          "execution_count": 93,
          "metadata": {},
          "output_type": "execute_result"
        }
      ],
      "source": [
        "dataset[\"slope\"].unique()"
      ]
    },
    {
      "cell_type": "code",
      "execution_count": null,
      "metadata": {
        "colab": {
          "base_uri": "https://localhost:8080/",
          "height": 616
        },
        "id": "m7TcWEI-BQel",
        "outputId": "6ae955bb-8630-43e1-8512-9a4cb4e2f27d"
      },
      "outputs": [
        {
          "data": {
            "text/plain": [
              "<Axes: xlabel='slope', ylabel='target'>"
            ]
          },
          "execution_count": 94,
          "metadata": {},
          "output_type": "execute_result"
        },
        {
          "data": {
            "image/png": "[encoded data removed]",
            "text/plain": [
              "<Figure size 1500x800 with 1 Axes>"
            ]
          },
          "metadata": {},
          "output_type": "display_data"
        }
      ],
      "source": [
        "sns.barplot(x=dataset[\"slope\"],y=y)"
      ]
    },
    {
      "cell_type": "code",
      "execution_count": null,
      "metadata": {
        "colab": {
          "base_uri": "https://localhost:8080/"
        },
        "id": "x-Nw6WhGBQgd",
        "outputId": "20a4a42f-bc4d-42f8-aece-74696d898052"
      },
      "outputs": [
        {
          "data": {
            "text/plain": [
              "array([2, 0, 1, 3, 4])"
            ]
          },
          "execution_count": 95,
          "metadata": {},
          "output_type": "execute_result"
        }
      ],
      "source": [
        "dataset[\"ca\"].unique()"
      ]
    },
    {
      "cell_type": "code",
      "execution_count": null,
      "metadata": {
        "colab": {
          "base_uri": "https://localhost:8080/",
          "height": 588
        },
        "id": "I4kYTg2pBQi2",
        "outputId": "bf235643-bb99-41a2-a1d8-200b2f91d089"
      },
      "outputs": [
        {
          "data": {
            "text/plain": [
              "<Axes: ylabel='count'>"
            ]
          },
          "execution_count": 96,
          "metadata": {},
          "output_type": "execute_result"
        },
        {
          "data": {
            "image/png": "[encoded data removed]",
            "text/plain": [
              "<Figure size 1500x800 with 1 Axes>"
            ]
          },
          "metadata": {},
          "output_type": "display_data"
        }
      ],
      "source": [
        "sns.countplot(dataset[\"ca\"])"
      ]
    },
    {
      "cell_type": "code",
      "execution_count": null,
      "metadata": {
        "colab": {
          "base_uri": "https://localhost:8080/",
          "height": 614
        },
        "id": "IlLqm9pWBQk7",
        "outputId": "102c8819-02ca-48d8-eacc-68ead7cfea9e"
      },
      "outputs": [
        {
          "data": {
            "text/plain": [
              "<Axes: xlabel='ca', ylabel='target'>"
            ]
          },
          "execution_count": 97,
          "metadata": {},
          "output_type": "execute_result"
        },
        {
          "data": {
            "image/png": "[encoded data removed]",
            "text/plain": [
              "<Figure size 1500x800 with 1 Axes>"
            ]
          },
          "metadata": {},
          "output_type": "display_data"
        }
      ],
      "source": [
        "sns.barplot(x=dataset[\"ca\"],y=y)"
      ]
    },
    {
      "cell_type": "code",
      "execution_count": null,
      "metadata": {
        "colab": {
          "base_uri": "https://localhost:8080/"
        },
        "id": "pKVQJCBmBROk",
        "outputId": "21b461a9-b0d5-4a55-980d-8be0fc6eaadc"
      },
      "outputs": [
        {
          "data": {
            "text/plain": [
              "array([3, 2, 1, 0])"
            ]
          },
          "execution_count": 98,
          "metadata": {},
          "output_type": "execute_result"
        }
      ],
      "source": [
        "dataset[\"thal\"].unique()"
      ]
    },
    {
      "cell_type": "code",
      "execution_count": null,
      "metadata": {
        "colab": {
          "base_uri": "https://localhost:8080/",
          "height": 614
        },
        "id": "9kv4Jj6iB6D-",
        "outputId": "5a2d5049-c454-4984-8cbf-458a6eb5bffb"
      },
      "outputs": [
        {
          "data": {
            "text/plain": [
              "<Axes: xlabel='thal', ylabel='target'>"
            ]
          },
          "execution_count": 99,
          "metadata": {},
          "output_type": "execute_result"
        },
        {
          "data": {
            "image/png": "[encoded data removed]",
            "text/plain": [
              "<Figure size 1500x800 with 1 Axes>"
            ]
          },
          "metadata": {},
          "output_type": "display_data"
        }
      ],
      "source": [
        "sns.barplot(x=dataset[\"thal\"],y=y)"
      ]
    },
    {
      "cell_type": "code",
      "execution_count": null,
      "metadata": {
        "colab": {
          "base_uri": "https://localhost:8080/",
          "height": 614
        },
        "id": "Ga3aVy-UB6GM",
        "outputId": "4c355f12-8334-41ac-c67d-16008a4a6b50"
      },
      "outputs": [
        {
          "data": {
            "text/plain": [
              "<Axes: xlabel='thal', ylabel='Density'>"
            ]
          },
          "execution_count": 100,
          "metadata": {},
          "output_type": "execute_result"
        },
        {
          "data": {
            "image/png": "[encoded data removed]",
            "text/plain": [
              "<Figure size 1500x800 with 1 Axes>"
            ]
          },
          "metadata": {},
          "output_type": "display_data"
        }
      ],
      "source": [
        "sns.distplot(dataset[\"thal\"])"
      ]
    },
    {
      "cell_type": "code",
      "execution_count": null,
      "metadata": {
        "id": "H5ilRN4yB6Io"
      },
      "outputs": [],
      "source": []
    },
    {
      "cell_type": "markdown",
      "metadata": {},
      "source": [
        "Outputs:\n",
        "\n",
        "The minimum age to have a heart disease start from 28 years old.  \n",
        "Most of the people get heart disease at the age of 53 to 54 years.    \n",
        "Most of the males and females get are with heart disease at the age of 54 to 55 years.  \n",
        "Male percentage in the data: 78.91% \n",
        "Female percentage in the data : 21.09%  \n",
        "Males are 274.23% more than female in the data. \n",
        "We have the highest number of people from Clveland(304) and lowest from Switzerland (123).  \n",
        "\n",
        "***..Age vs Sex and origin..*** \n",
        "\n",
        "The highest number of female in this dataset are from Cleveland(97) and lowest are from VA Long Beach(6).   \n",
        "The highest number of male are from Hungary(212) and lowest from Switzerland(113).  \n",
        "***..Chest pain according to Origins..***   \n",
        "\n",
        "The high number of Typical angina, Asymptomatic and Non anginal chest pain is in the Cleveland while Atypical anigna is highly occured in Hungary.  \n",
        "Lowest number of chest pain (Typical angina, Asymptomatic, Non anginal and Atypical angina)is happened in Switzerland as compare to other origins.  \n",
        "\n",
        "***..Chest pain according to Age..***   \n",
        "\n",
        "The highest number of chest pain is happened is Asymtomatic Angina and the lowest number of cp is that happened is Typical Angina.  \n",
        "The age in which highest number of Typical Angina happened is 62 to 63 years.   \n",
        "The age in which highest number of Asymtomatic Angina happened is 56 to 57 years.   \n",
        "The age in which highest number of Non Anginal happened is 54 to 55 years.  \n",
        "The age in which highest number of Atypical Angina happened is 54 to 55 years.  "
      ]
    },
    {
      "cell_type": "code",
      "execution_count": null,
      "metadata": {
        "id": "-uXuiGvtB6LN"
      },
      "outputs": [],
      "source": []
    },
    {
      "cell_type": "code",
      "execution_count": null,
      "metadata": {
        "id": "8xZLEsF-B6Nv"
      },
      "outputs": [],
      "source": []
    },
    {
      "cell_type": "code",
      "execution_count": null,
      "metadata": {
        "id": "06ZlULRAB6QV"
      },
      "outputs": [],
      "source": []
    },
    {
      "cell_type": "code",
      "execution_count": null,
      "metadata": {
        "id": "4-xeooMzB6St"
      },
      "outputs": [],
      "source": []
    },
    {
      "cell_type": "code",
      "execution_count": null,
      "metadata": {
        "id": "mzxfk-GZB6Uw"
      },
      "outputs": [],
      "source": []
    },
    {
      "cell_type": "code",
      "execution_count": null,
      "metadata": {
        "id": "mU5CJycaBRQq"
      },
      "outputs": [],
      "source": []
    },
    {
      "cell_type": "code",
      "execution_count": null,
      "metadata": {
        "id": "7b7XYc8EBRTA"
      },
      "outputs": [],
      "source": []
    }
  ],
  "metadata": {
    "colab": {
      "provenance": []
    },
    "kernelspec": {
      "display_name": "Python 3",
      "name": "python3"
    },
    "language_info": {
      "codemirror_mode": {
        "name": "ipython",
        "version": 3
      },
      "file_extension": ".py",
      "mimetype": "text/x-python",
      "name": "python",
      "nbconvert_exporter": "python",
      "pygments_lexer": "ipython3",
      "version": "3.10.13"
    }
  },
  "nbformat": 4,
  "nbformat_minor": 0
}
